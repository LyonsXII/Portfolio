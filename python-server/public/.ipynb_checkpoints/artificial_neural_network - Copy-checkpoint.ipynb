{
 "cells": [
  {
   "cell_type": "markdown",
   "metadata": {
    "colab_type": "text",
    "id": "lP6JLo1tGNBg"
   },
   "source": [
    "# Artificial Neural Network"
   ]
  },
  {
   "cell_type": "markdown",
   "metadata": {
    "colab_type": "text",
    "id": "gWZyYmS_UE_L"
   },
   "source": [
    "### Importing the libraries"
   ]
  },
  {
   "cell_type": "code",
   "execution_count": 100,
   "metadata": {
    "colab": {},
    "colab_type": "code",
    "id": "MxkJoQBkUIHC"
   },
   "outputs": [],
   "source": [
    "import numpy as np\n",
    "import pandas as pd\n",
    "import tensorflow as tf"
   ]
  },
  {
   "cell_type": "code",
   "execution_count": 85,
   "metadata": {
    "colab": {
     "base_uri": "https://localhost:8080/",
     "height": 34
    },
    "colab_type": "code",
    "executionInfo": {
     "elapsed": 2400,
     "status": "ok",
     "timestamp": 1590257449959,
     "user": {
      "displayName": "Hadelin de Ponteves",
      "photoUrl": "https://lh3.googleusercontent.com/a-/AOh14GhEuXdT7eQweUmRPW8_laJuPggSK6hfvpl5a6WBaA=s64",
      "userId": "15047218817161520419"
     },
     "user_tz": -240
    },
    "id": "ZaTwK7ojXr2F",
    "outputId": "0b27a96d-d11a-43e8-ab4b-87c1f01896fe"
   },
   "outputs": [
    {
     "data": {
      "text/plain": [
       "'2.13.0'"
      ]
     },
     "execution_count": 85,
     "metadata": {},
     "output_type": "execute_result"
    }
   ],
   "source": [
    "tf.__version__"
   ]
  },
  {
   "cell_type": "markdown",
   "metadata": {
    "colab_type": "text",
    "id": "1E0Q3aoKUCRX"
   },
   "source": [
    "## Part 1 - Data Preprocessing"
   ]
  },
  {
   "cell_type": "markdown",
   "metadata": {
    "colab_type": "text",
    "id": "cKWAkFVGUU0Z"
   },
   "source": [
    "### Importing the dataset"
   ]
  },
  {
   "cell_type": "code",
   "execution_count": 101,
   "metadata": {
    "colab": {},
    "colab_type": "code",
    "id": "MXUkhkMfU4wq"
   },
   "outputs": [],
   "source": [
    "import csv\n",
    "dataset = pd.read_csv('Author Dataset.csv', encoding='latin1', sep=',', quoting=csv.QUOTE_ALL)\n",
    "X = dataset[\"Text\"].values\n",
    "y = dataset[\"Author\"].values"
   ]
  },
  {
   "cell_type": "code",
   "execution_count": 102,
   "metadata": {},
   "outputs": [
    {
     "name": "stdout",
     "output_type": "stream",
     "text": [
      "           Book  Chapter        Author  \\\n",
      "0  Frankenstein        1  Mary Shelley   \n",
      "1  Frankenstein        2  Mary Shelley   \n",
      "2  Frankenstein        3  Mary Shelley   \n",
      "3  Frankenstein        4  Mary Shelley   \n",
      "4  Frankenstein        5  Mary Shelley   \n",
      "\n",
      "                                                Text  \n",
      "0  I am by birth a Genevese, and my family is one...  \n",
      "1  We were brought up together; there was not qui...  \n",
      "2  When I had attained the age of seventeen my pa...  \n",
      "3  From this day natural philosophy, and particul...  \n",
      "4  It was on a dreary night of November that I be...  \n"
     ]
    }
   ],
   "source": [
    "print(dataset.head())"
   ]
  },
  {
   "cell_type": "code",
   "execution_count": 103,
   "metadata": {
    "colab": {
     "base_uri": "https://localhost:8080/",
     "height": 137
    },
    "colab_type": "code",
    "collapsed": true,
    "executionInfo": {
     "elapsed": 2396,
     "status": "ok",
     "timestamp": 1590257449961,
     "user": {
      "displayName": "Hadelin de Ponteves",
      "photoUrl": "https://lh3.googleusercontent.com/a-/AOh14GhEuXdT7eQweUmRPW8_laJuPggSK6hfvpl5a6WBaA=s64",
      "userId": "15047218817161520419"
     },
     "user_tz": -240
    },
    "id": "VYP9cQTWbzuI",
    "jupyter": {
     "outputs_hidden": true
    },
    "outputId": "797e7a64-9bac-436a-8c9c-94437e5e7587"
   },
   "outputs": [
    {
     "name": "stdout",
     "output_type": "stream",
     "text": [
      "['I am by birth a Genevese, and my family is one of the most distinguished of that republic. My ancestors had been for many years counsellors and syndics, and my father had filled several public situations with honour and reputation. He was respected by all who knew him for his integrity and indefatigable attention to public business. He passed his younger days perpetually occupied by the affairs of his country; a variety of circumstances had prevented his marrying early, nor was it until the decline of life that he became a husband and the father of a family.\\n\\nAs the circumstances of his marriage illustrate his character, I cannot refrain from relating them. One of his most intimate friends was a merchant who, from a flourishing state, fell, through numerous mischances, into poverty. This man, whose name was Beaufort, was of a proud and unbending disposition and could not bear to live in poverty and oblivion in the same country where he had formerly been distinguished for his rank and magnificence. Having paid his debts, therefore, in the most honourable manner, he retreated with his daughter to the town of Lucerne, where he lived unknown and in wretchedness. My father loved Beaufort with the truest friendship and was deeply grieved by his retreat in these unfortunate circumstances. He bitterly deplored the false pride which led his friend to a conduct so little worthy of the affection that united them. He lost no time in endeavouring to seek him out, with the hope of persuading him to begin the world again through his credit and assistance.\\n\\nBeaufort had taken effectual measures to conceal himself, and it was ten months before my father discovered his abode. Overjoyed at this discovery, he hastened to the house, which was situated in a mean street near the Reuss. But when he entered, misery and despair alone welcomed him. Beaufort had saved but a very small sum of money from the wreck of his fortunes, but it was sufficient to provide him with sustenance for some months, and in the meantime he hoped to procure some respectable employment in a merchant\\x92s house. The interval was, consequently, spent in inaction; his grief only became more deep and rankling when he had leisure for reflection, and at length it took so fast hold of his mind that at the end of three months he lay on a bed of sickness, incapable of any exertion.\\n\\nHis daughter attended him with the greatest tenderness, but she saw with despair that their little fund was rapidly decreasing and that there was no other prospect of support. But Caroline Beaufort possessed a mind of an uncommon mould, and her courage rose to support her in her adversity. She procured plain work; she plaited straw and by various means contrived to earn a pittance scarcely sufficient to support life.\\n\\nSeveral months passed in this manner. Her father grew worse; her time was more entirely occupied in attending him; her means of subsistence decreased; and in the tenth month her father died in her arms, leaving her an orphan and a beggar. This last blow overcame her, and she knelt by Beaufort\\x92s coffin weeping bitterly, when my father entered the chamber. He came like a protecting spirit to the poor girl, who committed herself to his care; and after the interment of his friend he conducted her to Geneva and placed her under the protection of a relation. Two years after this event Caroline became his wife.\\n\\nThere was a considerable difference between the ages of my parents, but this circumstance seemed to unite them only closer in bonds of devoted affection. There was a sense of justice in my father\\x92s upright mind which rendered it necessary that he should approve highly to love strongly. Perhaps during former years he had suffered from the late-discovered unworthiness of one beloved and so was disposed to set a greater value on tried worth. There was a show of gratitude and worship in his attachment to my mother, differing wholly from the doting fondness of age, for it was inspired by reverence for her virtues and a desire to be the means of, in some degree, recompensing her for the sorrows she had endured, but which gave inexpressible grace to his behaviour to her. Everything was made to yield to her wishes and her convenience. He strove to shelter her, as a fair exotic is sheltered by the gardener, from every rougher wind and to surround her with all that could tend to excite pleasurable emotion in her soft and benevolent mind. Her health, and even the tranquillity of her hitherto constant spirit, had been shaken by what she had gone through. During the two years that had elapsed previous to their marriage my father had gradually relinquished all his public functions; and immediately after their union they sought the pleasant climate of Italy, and the change of scene and interest attendant on a tour through that land of wonders, as a restorative for her weakened frame.\\n\\nFrom Italy they visited Germany and France. I, their eldest child, was born at Naples, and as an infant accompanied them in their rambles. I remained for several years their only child. Much as they were attached to each other, they seemed to draw inexhaustible stores of affection from a very mine of love to bestow them upon me. My mother\\x92s tender caresses and my father\\x92s smile of benevolent pleasure while regarding me are my first recollections. I was their plaything and their idol, and something better\\x97their child, the innocent and helpless creature bestowed on them by Heaven, whom to bring up to good, and whose future lot it was in their hands to direct to happiness or misery, according as they fulfilled their duties towards me. With this deep consciousness of what they owed towards the being to which they had given life, added to the active spirit of tenderness that animated both, it may be imagined that while during every hour of my infant life I received a lesson of patience, of charity, and of self-control, I was so guided by a silken cord that all seemed but one train of enjoyment to me.\\n\\nFor a long time I was their only care. My mother had much desired to have a daughter, but I continued their single offspring. When I was about five years old, while making an excursion beyond the frontiers of Italy, they passed a week on the shores of the Lake of Como. Their benevolent disposition often made them enter the cottages of the poor. This, to my mother, was more than a duty; it was a necessity, a passion\\x97remembering what she had suffered, and how she had been relieved\\x97for her to act in her turn the guardian angel to the afflicted. During one of their walks a poor cot in the foldings of a vale attracted their notice as being singularly disconsolate, while the number of half-clothed children gathered about it spoke of penury in its worst shape. One day, when my father had gone by himself to Milan, my mother, accompanied by me, visited this abode. She found a peasant and his wife, hard working, bent down by care and labour, distributing a scanty meal to five hungry babes. Among these there was one which attracted my mother far above all the rest. She appeared of a different stock. The four others were dark-eyed, hardy little vagrants; this child was thin and very fair. Her hair was the brightest living gold, and despite the poverty of her clothing, seemed to set a crown of distinction on her head. Her brow was clear and ample, her blue eyes cloudless, and her lips and the moulding of her face so expressive of sensibility and sweetness that none could behold her without looking on her as of a distinct species, a being heaven-sent, and bearing a celestial stamp in all her features.\\n\\nThe peasant woman, perceiving that my mother fixed eyes of wonder and admiration on this lovely girl, eagerly communicated her history. She was not her child, but the daughter of a Milanese nobleman. Her mother was a German and had died on giving her birth. The infant had been placed with these good people to nurse: they were better off then. They had not been long married, and their eldest child was but just born. The father of their charge was one of those Italians nursed in the memory of the antique glory of Italy\\x97one among the schiavi ognor frementi, who exerted himself to obtain the liberty of his country. He became the victim of its weakness. Whether he had died or still lingered in the dungeons of Austria was not known. His property was confiscated; his child became an orphan and a beggar. She continued with her foster parents and bloomed in their rude abode, fairer than a garden rose among dark-leaved brambles.\\n\\nWhen my father returned from Milan, he found playing with me in the hall of our villa a child fairer than pictured cherub\\x97a creature who seemed to shed radiance from her looks and whose form and motions were lighter than the chamois of the hills. The apparition was soon explained. With his permission my mother prevailed on her rustic guardians to yield their charge to her. They were fond of the sweet orphan. Her presence had seemed a blessing to them, but it would be unfair to her to keep her in poverty and want when Providence afforded her such powerful protection. They consulted their village priest, and the result was that Elizabeth Lavenza became the inmate of my parents\\x92 house\\x97my more than sister\\x97the beautiful and adored companion of all my occupations and my pleasures.\\n\\nEveryone loved Elizabeth. The passionate and almost reverential attachment with which all regarded her became, while I shared it, my pride and my delight. On the evening previous to her being brought to my home, my mother had said playfully, \\x93I have a pretty present for my Victor\\x97tomorrow he shall have it.\\x94 And when, on the morrow, she presented Elizabeth to me as her promised gift, I, with childish seriousness, interpreted her words literally and looked upon Elizabeth as mine\\x97mine to protect, love, and cherish. All praises bestowed on her I received as made to a possession of my own. We called each other familiarly by the name of cousin. No word, no expression could body forth the kind of relation in which she stood to me\\x97my more than sister, since till death she was to be mine only.'\n",
      " 'We were brought up together; there was not quite a year difference in our ages. I need not say that we were strangers to any species of disunion or dispute. Harmony was the soul of our companionship, and the diversity and contrast that subsisted in our characters drew us nearer together. Elizabeth was of a calmer and more concentrated disposition; but, with all my ardour, I was capable of a more intense application and was more deeply smitten with the thirst for knowledge. She busied herself with following the aerial creations of the poets; and in the majestic and wondrous scenes which surrounded our Swiss home \\x97the sublime shapes of the mountains, the changes of the seasons, tempest and calm, the silence of winter, and the life and turbulence of our Alpine summers\\x97she found ample scope for admiration and delight. While my companion contemplated with a serious and satisfied spirit the magnificent appearances of things, I delighted in investigating their causes. The world was to me a secret which I desired to divine. Curiosity, earnest research to learn the hidden laws of nature, gladness akin to rapture, as they were unfolded to me, are among the earliest sensations I can remember.\\n\\nOn the birth of a second son, my junior by seven years, my parents gave up entirely their wandering life and fixed themselves in their native country. We possessed a house in Geneva, and a campagne on Belrive, the eastern shore of the lake, at the distance of rather more than a league from the city. We resided principally in the latter, and the lives of my parents were passed in considerable seclusion. It was my temper to avoid a crowd and to attach myself fervently to a few. I was indifferent, therefore, to my school-fellows in general; but I united myself in the bonds of the closest friendship to one among them. Henry Clerval was the son of a merchant of Geneva. He was a boy of singular talent and fancy. He loved enterprise, hardship, and even danger for its own sake. He was deeply read in books of chivalry and romance. He composed heroic songs and began to write many a tale of enchantment and knightly adventure. He tried to make us act plays and to enter into masquerades, in which the characters were drawn from the heroes of Roncesvalles, of the Round Table of King Arthur, and the chivalrous train who shed their blood to redeem the holy sepulchre from the hands of the infidels.\\n\\nNo human being could have passed a happier childhood than myself. My parents were possessed by the very spirit of kindness and indulgence. We felt that they were not the tyrants to rule our lot according to their caprice, but the agents and creators of all the many delights which we enjoyed. When I mingled with other families I distinctly discerned how peculiarly fortunate my lot was, and gratitude assisted the development of filial love.\\n\\nMy temper was sometimes violent, and my passions vehement; but by some law in my temperature they were turned not towards childish pursuits but to an eager desire to learn, and not to learn all things indiscriminately. I confess that neither the structure of languages, nor the code of governments, nor the politics of various states possessed attractions for me. It was the secrets of heaven and earth that I desired to learn; and whether it was the outward substance of things or the inner spirit of nature and the mysterious soul of man that occupied me, still my inquiries were directed to the metaphysical, or in its highest sense, the physical secrets of the world.\\n\\nMeanwhile Clerval occupied himself, so to speak, with the moral relations of things. The busy stage of life, the virtues of heroes, and the actions of men were his theme; and his hope and his dream was to become one among those whose names are recorded in story as the gallant and adventurous benefactors of our species. The saintly soul of Elizabeth shone like a shrine-dedicated lamp in our peaceful home. Her sympathy was ours; her smile, her soft voice, the sweet glance of her celestial eyes, were ever there to bless and animate us. She was the living spirit of love to soften and attract; I might have become sullen in my study, rough through the ardour of my nature, but that she was there to subdue me to a semblance of her own gentleness. And Clerval\\x97could aught ill entrench on the noble spirit of Clerval? Yet he might not have been so perfectly humane, so thoughtful in his generosity, so full of kindness and tenderness amidst his passion for adventurous exploit, had she not unfolded to him the real loveliness of beneficence and made the doing good the end and aim of his soaring ambition.\\n\\nI feel exquisite pleasure in dwelling on the recollections of childhood, before misfortune had tainted my mind and changed its bright visions of extensive usefulness into gloomy and narrow reflections upon self. Besides, in drawing the picture of my early days, I also record those events which led, by insensible steps, to my after tale of misery, for when I would account to myself for the birth of that passion which afterwards ruled my destiny I find it arise, like a mountain river, from ignoble and almost forgotten sources; but, swelling as it proceeded, it became the torrent which, in its course, has swept away all my hopes and joys.\\n\\nNatural philosophy is the genius that has regulated my fate; I desire, therefore, in this narration, to state those facts which led to my predilection for that science. When I was thirteen years of age we all went on a party of pleasure to the baths near Thonon; the inclemency of the weather obliged us to remain a day confined to the inn. In this house I chanced to find a volume of the works of Cornelius Agrippa. I opened it with apathy; the theory which he attempts to demonstrate and the wonderful facts which he relates soon changed this feeling into enthusiasm. A new light seemed to dawn upon my mind, and bounding with joy, I communicated my discovery to my father. My father looked carelessly at the title page of my book and said, \\x93Ah! Cornelius Agrippa! My dear Victor, do not waste your time upon this; it is sad trash.\\x94\\n\\nIf, instead of this remark, my father had taken the pains to explain to me that the principles of Agrippa had been entirely exploded and that a modern system of science had been introduced which possessed much greater powers than the ancient, because the powers of the latter were chimerical, while those of the former were real and practical, under such circumstances I should certainly have thrown Agrippa aside and have contented my imagination, warmed as it was, by returning with greater ardour to my former studies. It is even possible that the train of my ideas would never have received the fatal impulse that led to my ruin. But the cursory glance my father had taken of my volume by no means assured me that he was acquainted with its contents, and I continued to read with the greatest avidity.\\n\\nWhen I returned home my first care was to procure the whole works of this author, and afterwards of Paracelsus and Albertus Magnus. I read and studied the wild fancies of these writers with delight; they appeared to me treasures known to few besides myself. I have described myself as always having been imbued with a fervent longing to penetrate the secrets of nature. In spite of the intense labour and wonderful discoveries of modern philosophers, I always came from my studies discontented and unsatisfied. Sir Isaac Newton is said to have avowed that he felt like a child picking up shells beside the great and unexplored ocean of truth. Those of his successors in each branch of natural philosophy with whom I was acquainted appeared even to my boy\\x92s apprehensions as tyros engaged in the same pursuit.\\n\\nThe untaught peasant beheld the elements around him and was acquainted with their practical uses. The most learned philosopher knew little more. He had partially unveiled the face of Nature, but her immortal lineaments were still a wonder and a mystery. He might dissect, anatomise, and give names; but, not to speak of a final cause, causes in their secondary and tertiary grades were utterly unknown to him. I had gazed upon the fortifications and impediments that seemed to keep human beings from entering the citadel of nature, and rashly and ignorantly I had repined.\\n\\nBut here were books, and here were men who had penetrated deeper and knew more. I took their word for all that they averred, and I became their disciple. It may appear strange that such should arise in the eighteenth century; but while I followed the routine of education in the schools of Geneva, I was, to a great degree, self-taught with regard to my favourite studies. My father was not scientific, and I was left to struggle with a child\\x92s blindness, added to a student\\x92s thirst for knowledge. Under the guidance of my new preceptors I entered with the greatest diligence into the search of the philosopher\\x92s stone and the elixir of life; but the latter soon obtained my undivided attention. Wealth was an inferior object, but what glory would attend the discovery if I could banish disease from the human frame and render man invulnerable to any but a violent death!\\n\\nNor were these my only visions. The raising of ghosts or devils was a promise liberally accorded by my favourite authors, the fulfilment of which I most eagerly sought; and if my incantations were always unsuccessful, I attributed the failure rather to my own inexperience and mistake than to a want of skill or fidelity in my instructors. And thus for a time I was occupied by exploded systems, mingling, like an unadept, a thousand contradictory theories and floundering desperately in a very slough of multifarious knowledge, guided by an ardent imagination and childish reasoning, till an accident again changed the current of my ideas.\\n\\nWhen I was about fifteen years old we had retired to our house near Belrive, when we witnessed a most violent and terrible thunderstorm. It advanced from behind the mountains of Jura, and the thunder burst at once with frightful loudness from various quarters of the heavens. I remained, while the storm lasted, watching its progress with curiosity and delight. As I stood at the door, on a sudden I beheld a stream of fire issue from an old and beautiful oak which stood about twenty yards from our house; and so soon as the dazzling light vanished, the oak had disappeared, and nothing remained but a blasted stump. When we visited it the next morning, we found the tree shattered in a singular manner. It was not splintered by the shock, but entirely reduced to thin ribbons of wood. I never beheld anything so utterly destroyed.\\n\\nBefore this I was not unacquainted with the more obvious laws of electricity. On this occasion a man of great research in natural philosophy was with us, and excited by this catastrophe, he entered on the explanation of a theory which he had formed on the subject of electricity and galvanism, which was at once new and astonishing to me. All that he said threw greatly into the shade Cornelius Agrippa, Albertus Magnus, and Paracelsus, the lords of my imagination; but by some fatality the overthrow of these men disinclined me to pursue my accustomed studies. It seemed to me as if nothing would or could ever be known. All that had so long engaged my attention suddenly grew despicable. By one of those caprices of the mind which we are perhaps most subject to in early youth, I at once gave up my former occupations, set down natural history and all its progeny as a deformed and abortive creation, and entertained the greatest disdain for a would-be science which could never even step within the threshold of real knowledge. In this mood of mind I betook myself to the mathematics and the branches of study appertaining to that science as being built upon secure foundations, and so worthy of my consideration.\\n\\nThus strangely are our souls constructed, and by such slight ligaments are we bound to prosperity or ruin. When I look back, it seems to me as if this almost miraculous change of inclination and will was the immediate suggestion of the guardian angel of my life\\x97the last effort made by the spirit of preservation to avert the storm that was even then hanging in the stars and ready to envelop me. Her victory was announced by an unusual tranquillity and gladness of soul which followed the relinquishing of my ancient and latterly tormenting studies. It was thus that I was to be taught to associate evil with their prosecution, happiness with their disregard.\\n\\nIt was a strong effort of the spirit of good, but it was ineffectual. Destiny was too potent, and her immutable laws had decreed my utter and terrible destruction.'\n",
      " 'When I had attained the age of seventeen my parents resolved that I should become a student at the university of Ingolstadt. I had hitherto attended the schools of Geneva, but my father thought it necessary for the completion of my education that I should be made acquainted with other customs than those of my native country. My departure was therefore fixed at an early date, but before the day resolved upon could arrive, the first misfortune of my life occurred\\x97an omen, as it were, of my future misery.\\n\\nElizabeth had caught the scarlet fever; her illness was severe, and she was in the greatest danger. During her illness many arguments had been urged to persuade my mother to refrain from attending upon her. She had at first yielded to our entreaties, but when she heard that the life of her favourite was menaced, she could no longer control her anxiety. She attended her sickbed; her watchful attentions triumphed over the malignity of the distemper\\x97Elizabeth was saved, but the consequences of this imprudence were fatal to her preserver. On the third day my mother sickened; her fever was accompanied by the most alarming symptoms, and the looks of her medical attendants prognosticated the worst event. On her deathbed the fortitude and benignity of this best of women did not desert her. She joined the hands of Elizabeth and myself. \\x93My children,\\x94 she said, \\x93my firmest hopes of future happiness were placed on the prospect of your union. This expectation will now be the consolation of your father. Elizabeth, my love, you must supply my place to my younger children. Alas! I regret that I am taken from you; and, happy and beloved as I have been, is it not hard to quit you all? But these are not thoughts befitting me; I will endeavour to resign myself cheerfully to death and will indulge a hope of meeting you in another world.\\x94\\n\\nShe died calmly, and her countenance expressed affection even in death. I need not describe the feelings of those whose dearest ties are rent by that most irreparable evil, the void that presents itself to the soul, and the despair that is exhibited on the countenance. It is so long before the mind can persuade itself that she whom we saw every day and whose very existence appeared a part of our own can have departed for ever\\x97that the brightness of a beloved eye can have been extinguished and the sound of a voice so familiar and dear to the ear can be hushed, never more to be heard. These are the reflections of the first days; but when the lapse of time proves the reality of the evil, then the actual bitterness of grief commences. Yet from whom has not that rude hand rent away some dear connection? And why should I describe a sorrow which all have felt, and must feel? The time at length arrives when grief is rather an indulgence than a necessity; and the smile that plays upon the lips, although it may be deemed a sacrilege, is not banished. My mother was dead, but we had still duties which we ought to perform; we must continue our course with the rest and learn to think ourselves fortunate whilst one remains whom the spoiler has not seized.\\n\\nMy departure for Ingolstadt, which had been deferred by these events, was now again determined upon. I obtained from my father a respite of some weeks. It appeared to me sacrilege so soon to leave the repose, akin to death, of the house of mourning and to rush into the thick of life. I was new to sorrow, but it did not the less alarm me. I was unwilling to quit the sight of those that remained to me, and above all, I desired to see my sweet Elizabeth in some degree consoled.\\n\\nShe indeed veiled her grief and strove to act the comforter to us all. She looked steadily on life and assumed its duties with courage and zeal. She devoted herself to those whom she had been taught to call her uncle and cousins. Never was she so enchanting as at this time, when she recalled the sunshine of her smiles and spent them upon us. She forgot even her own regret in her endeavours to make us forget.\\n\\nThe day of my departure at length arrived. Clerval spent the last evening with us. He had endeavoured to persuade his father to permit him to accompany me and to become my fellow student, but in vain. His father was a narrow-minded trader and saw idleness and ruin in the aspirations and ambition of his son. Henry deeply felt the misfortune of being debarred from a liberal education. He said little, but when he spoke I read in his kindling eye and in his animated glance a restrained but firm resolve not to be chained to the miserable details of commerce.\\n\\nWe sat late. We could not tear ourselves away from each other nor persuade ourselves to say the word \\x93Farewell!\\x94 It was said, and we retired under the pretence of seeking repose, each fancying that the other was deceived; but when at morning\\x92s dawn I descended to the carriage which was to convey me away, they were all there\\x97my father again to bless me, Clerval to press my hand once more, my Elizabeth to renew her entreaties that I would write often and to bestow the last feminine attentions on her playmate and friend.\\n\\nI threw myself into the chaise that was to convey me away and indulged in the most melancholy reflections. I, who had ever been surrounded by amiable companions, continually engaged in endeavouring to bestow mutual pleasure\\x97I was now alone. In the university whither I was going I must form my own friends and be my own protector. My life had hitherto been remarkably secluded and domestic, and this had given me invincible repugnance to new countenances. I loved my brothers, Elizabeth, and Clerval; these were \\x93old familiar faces,\\x94 but I believed myself totally unfitted for the company of strangers. Such were my reflections as I commenced my journey; but as I proceeded, my spirits and hopes rose. I ardently desired the acquisition of knowledge. I had often, when at home, thought it hard to remain during my youth cooped up in one place and had longed to enter the world and take my station among other human beings. Now my desires were complied with, and it would, indeed, have been folly to repent.\\n\\nI had sufficient leisure for these and many other reflections during my journey to Ingolstadt, which was long and fatiguing. At length the high white steeple of the town met my eyes. I alighted and was conducted to my solitary apartment to spend the evening as I pleased.\\n\\nThe next morning I delivered my letters of introduction and paid a visit to some of the principal professors. Chance\\x97or rather the evil influence, the Angel of Destruction, which asserted omnipotent sway over me from the moment I turned my reluctant steps from my father\\x92s door\\x97led me first to M. Krempe, professor of natural philosophy. He was an uncouth man, but deeply imbued in the secrets of his science. He asked me several questions concerning my progress in the different branches of science appertaining to natural philosophy. I replied carelessly, and partly in contempt, mentioned the names of my alchemists as the principal authors I had studied. The professor stared. \\x93Have you,\\x94 he said, \\x93really spent your time in studying such nonsense?\\x94\\n\\nI replied in the affirmative. \\x93Every minute,\\x94 continued M. Krempe with warmth, \\x93every instant that you have wasted on those books is utterly and entirely lost. You have burdened your memory with exploded systems and useless names. Good God! In what desert land have you lived, where no one was kind enough to inform you that these fancies which you have so greedily imbibed are a thousand years old and as musty as they are ancient? I little expected, in this enlightened and scientific age, to find a disciple of Albertus Magnus and Paracelsus. My dear sir, you must begin your studies entirely anew.\\x94\\n\\nSo saying, he stepped aside and wrote down a list of several books treating of natural philosophy which he desired me to procure, and dismissed me after mentioning that in the beginning of the following week he intended to commence a course of lectures upon natural philosophy in its general relations, and that M. Waldman, a fellow professor, would lecture upon chemistry the alternate days that he omitted.\\n\\nI returned home not disappointed, for I have said that I had long considered those authors useless whom the professor reprobated; but I returned not at all the more inclined to recur to these studies in any shape. M. Krempe was a little squat man with a gruff voice and a repulsive countenance; the teacher, therefore, did not prepossess me in favour of his pursuits. In rather a too philosophical and connected a strain, perhaps, I have given an account of the conclusions I had come to concerning them in my early years. As a child I had not been content with the results promised by the modern professors of natural science. With a confusion of ideas only to be accounted for by my extreme youth and my want of a guide on such matters, I had retrod the steps of knowledge along the paths of time and exchanged the discoveries of recent inquirers for the dreams of forgotten alchemists. Besides, I had a contempt for the uses of modern natural philosophy. It was very different when the masters of the science sought immortality and power; such views, although futile, were grand; but now the scene was changed. The ambition of the inquirer seemed to limit itself to the annihilation of those visions on which my interest in science was chiefly founded. I was required to exchange chimeras of boundless grandeur for realities of little worth.\\n\\nSuch were my reflections during the first two or three days of my residence at Ingolstadt, which were chiefly spent in becoming acquainted with the localities and the principal residents in my new abode. But as the ensuing week commenced, I thought of the information which M. Krempe had given me concerning the lectures. And although I could not consent to go and hear that little conceited fellow deliver sentences out of a pulpit, I recollected what he had said of M. Waldman, whom I had never seen, as he had hitherto been out of town.\\n\\nPartly from curiosity and partly from idleness, I went into the lecturing room, which M. Waldman entered shortly after. This professor was very unlike his colleague. He appeared about fifty years of age, but with an aspect expressive of the greatest benevolence; a few grey hairs covered his temples, but those at the back of his head were nearly black. His person was short but remarkably erect and his voice the sweetest I had ever heard. He began his lecture by a recapitulation of the history of chemistry and the various improvements made by different men of learning, pronouncing with fervour the names of the most distinguished discoverers. He then took a cursory view of the present state of the science and explained many of its elementary terms. After having made a few preparatory experiments, he concluded with a panegyric upon modern chemistry, the terms of which I shall never forget:\\n\\n\\x93The ancient teachers of this science,\\x94 said he, \\x93promised impossibilities and performed nothing. The modern masters promise very little; they know that metals cannot be transmuted and that the elixir of life is a chimera but these philosophers, whose hands seem only made to dabble in dirt, and their eyes to pore over the microscope or crucible, have indeed performed miracles. They penetrate into the recesses of nature and show how she works in her hiding-places. They ascend into the heavens; they have discovered how the blood circulates, and the nature of the air we breathe. They have acquired new and almost unlimited powers; they can command the thunders of heaven, mimic the earthquake, and even mock the invisible world with its own shadows.\\x94\\n\\nSuch were the professor\\x92s words\\x97rather let me say such the words of the fate\\x97enounced to destroy me. As he went on I felt as if my soul were grappling with a palpable enemy; one by one the various keys were touched which formed the mechanism of my being; chord after chord was sounded, and soon my mind was filled with one thought, one conception, one purpose. So much has been done, exclaimed the soul of Frankenstein\\x97more, far more, will I achieve; treading in the steps already marked, I will pioneer a new way, explore unknown powers, and unfold to the world the deepest mysteries of creation.\\n\\nI closed not my eyes that night. My internal being was in a state of insurrection and turmoil; I felt that order would thence arise, but I had no power to produce it. By degrees, after the morning\\x92s dawn, sleep came. I awoke, and my yesternight\\x92s thoughts were as a dream. There only remained a resolution to return to my ancient studies and to devote myself to a science for which I believed myself to possess a natural talent. On the same day I paid M. Waldman a visit. His manners in private were even more mild and attractive than in public, for there was a certain dignity in his mien during his lecture which in his own house was replaced by the greatest affability and kindness. I gave him pretty nearly the same account of my former pursuits as I had given to his fellow professor. He heard with attention the little narration concerning my studies and smiled at the names of Cornelius Agrippa and Paracelsus, but without the contempt that M. Krempe had exhibited. He said that \\x93These were men to whose indefatigable zeal modern philosophers were indebted for most of the foundations of their knowledge. They had left to us, as an easier task, to give new names and arrange in connected classifications the facts which they in a great degree had been the instruments of bringing to light. The labours of men of genius, however erroneously directed, scarcely ever fail in ultimately turning to the solid advantage of mankind.\\x94 I listened to his statement, which was delivered without any presumption or affectation, and then added that his lecture had removed my prejudices against modern chemists; I expressed myself in measured terms, with the modesty and deference due from a youth to his instructor, without letting escape (inexperience in life would have made me ashamed) any of the enthusiasm which stimulated my intended labours. I requested his advice concerning the books I ought to procure.\\n\\n\\x93I am happy,\\x94 said M. Waldman, \\x93to have gained a disciple; and if your application equals your ability, I have no doubt of your success. Chemistry is that branch of natural philosophy in which the greatest improvements have been and may be made; it is on that account that I have made it my peculiar study; but at the same time, I have not neglected the other branches of science. A man would make but a very sorry chemist if he attended to that department of human knowledge alone. If your wish is to become really a man of science and not merely a petty experimentalist, I should advise you to apply to every branch of natural philosophy, including mathematics.\\x94\\n\\nHe then took me into his laboratory and explained to me the uses of his various machines, instructing me as to what I ought to procure and promising me the use of his own when I should have advanced far enough in the science not to derange their mechanism. He also gave me the list of books which I had requested, and I took my leave.\\n\\nThus ended a day memorable to me; it decided my future destiny.'\n",
      " 'From this day natural philosophy, and particularly chemistry, in the most comprehensive sense of the term, became nearly my sole occupation. I read with ardour those works, so full of genius and discrimination, which modern inquirers have written on these subjects. I attended the lectures and cultivated the acquaintance of the men of science of the university, and I found even in M. Krempe a great deal of sound sense and real information, combined, it is true, with a repulsive physiognomy and manners, but not on that account the less valuable. In M. Waldman I found a true friend. His gentleness was never tinged by dogmatism, and his instructions were given with an air of frankness and good nature that banished every idea of pedantry. In a thousand ways he smoothed for me the path of knowledge and made the most abstruse inquiries clear and facile to my apprehension. My application was at first fluctuating and uncertain; it gained strength as I proceeded and soon became so ardent and eager that the stars often disappeared in the light of morning whilst I was yet engaged in my laboratory.\\n\\nAs I applied so closely, it may be easily conceived that my progress was rapid. My ardour was indeed the astonishment of the students, and my proficiency that of the masters. Professor Krempe often asked me, with a sly smile, how Cornelius Agrippa went on, whilst M. Waldman expressed the most heartfelt exultation in my progress. Two years passed in this manner, during which I paid no visit to Geneva, but was engaged, heart and soul, in the pursuit of some discoveries which I hoped to make. None but those who have experienced them can conceive of the enticements of science. In other studies you go as far as others have gone before you, and there is nothing more to know; but in a scientific pursuit there is continual food for discovery and wonder. A mind of moderate capacity which closely pursues one study must infallibly arrive at great proficiency in that study; and I, who continually sought the attainment of one object of pursuit and was solely wrapped up in this, improved so rapidly that at the end of two years I made some discoveries in the improvement of some chemical instruments, which procured me great esteem and admiration at the university. When I had arrived at this point and had become as well acquainted with the theory and practice of natural philosophy as depended on the lessons of any of the professors at Ingolstadt, my residence there being no longer conducive to my improvements, I thought of returning to my friends and my native town, when an incident happened that protracted my stay.\\n\\nOne of the phenomena which had peculiarly attracted my attention was the structure of the human frame, and, indeed, any animal endued with life. Whence, I often asked myself, did the principle of life proceed? It was a bold question, and one which has ever been considered as a mystery; yet with how many things are we upon the brink of becoming acquainted, if cowardice or carelessness did not restrain our inquiries. I revolved these circumstances in my mind and determined thenceforth to apply myself more particularly to those branches of natural philosophy which relate to physiology. Unless I had been animated by an almost supernatural enthusiasm, my application to this study would have been irksome and almost intolerable. To examine the causes of life, we must first have recourse to death. I became acquainted with the science of anatomy, but this was not sufficient; I must also observe the natural decay and corruption of the human body. In my education my father had taken the greatest precautions that my mind should be impressed with no supernatural horrors. I do not ever remember to have trembled at a tale of superstition or to have feared the apparition of a spirit. Darkness had no effect upon my fancy, and a churchyard was to me merely the receptacle of bodies deprived of life, which, from being the seat of beauty and strength, had become food for the worm. Now I was led to examine the cause and progress of this decay and forced to spend days and nights in vaults and charnel-houses. My attention was fixed upon every object the most insupportable to the delicacy of the human feelings. I saw how the fine form of man was degraded and wasted; I beheld the corruption of death succeed to the blooming cheek of life; I saw how the worm inherited the wonders of the eye and brain. I paused, examining and analysing all the minutiae of causation, as exemplified in the change from life to death, and death to life, until from the midst of this darkness a sudden light broke in upon me\\x97a light so brilliant and wondrous, yet so simple, that while I became dizzy with the immensity of the prospect which it illustrated, I was surprised that among so many men of genius who had directed their inquiries towards the same science, that I alone should be reserved to discover so astonishing a secret.\\n\\nRemember, I am not recording the vision of a madman. The sun does not more certainly shine in the heavens than that which I now affirm is true. Some miracle might have produced it, yet the stages of the discovery were distinct and probable. After days and nights of incredible labour and fatigue, I succeeded in discovering the cause of generation and life; nay, more, I became myself capable of bestowing animation upon lifeless matter.\\n\\nThe astonishment which I had at first experienced on this discovery soon gave place to delight and rapture. After so much time spent in painful labour, to arrive at once at the summit of my desires was the most gratifying consummation of my toils. But this discovery was so great and overwhelming that all the steps by which I had been progressively led to it were obliterated, and I beheld only the result. What had been the study and desire of the wisest men since the creation of the world was now within my grasp. Not that, like a magic scene, it all opened upon me at once: the information I had obtained was of a nature rather to direct my endeavours so soon as I should point them towards the object of my search than to exhibit that object already accomplished. I was like the Arabian who had been buried with the dead and found a passage to life, aided only by one glimmering and seemingly ineffectual light.\\n\\nI see by your eagerness and the wonder and hope which your eyes express, my friend, that you expect to be informed of the secret with which I am acquainted; that cannot be; listen patiently until the end of my story, and you will easily perceive why I am reserved upon that subject. I will not lead you on, unguarded and ardent as I then was, to your destruction and infallible misery. Learn from me, if not by my precepts, at least by my example, how dangerous is the acquirement of knowledge and how much happier that man is who believes his native town to be the world, than he who aspires to become greater than his nature will allow.\\n\\nWhen I found so astonishing a power placed within my hands, I hesitated a long time concerning the manner in which I should employ it. Although I possessed the capacity of bestowing animation, yet to prepare a frame for the reception of it, with all its intricacies of fibres, muscles, and veins, still remained a work of inconceivable difficulty and labour. I doubted at first whether I should attempt the creation of a being like myself, or one of simpler organization; but my imagination was too much exalted by my first success to permit me to doubt of my ability to give life to an animal as complex and wonderful as man. The materials at present within my command hardly appeared adequate to so arduous an undertaking, but I doubted not that I should ultimately succeed. I prepared myself for a multitude of reverses; my operations might be incessantly baffled, and at last my work be imperfect, yet when I considered the improvement which every day takes place in science and mechanics, I was encouraged to hope my present attempts would at least lay the foundations of future success. Nor could I consider the magnitude and complexity of my plan as any argument of its impracticability. It was with these feelings that I began the creation of a human being. As the minuteness of the parts formed a great hindrance to my speed, I resolved, contrary to my first intention, to make the being of a gigantic stature, that is to say, about eight feet in height, and proportionably large. After having formed this determination and having spent some months in successfully collecting and arranging my materials, I began.\\n\\nNo one can conceive the variety of feelings which bore me onwards, like a hurricane, in the first enthusiasm of success. Life and death appeared to me ideal bounds, which I should first break through, and pour a torrent of light into our dark world. A new species would bless me as its creator and source; many happy and excellent natures would owe their being to me. No father could claim the gratitude of his child so completely as I should deserve theirs. Pursuing these reflections, I thought that if I could bestow animation upon lifeless matter, I might in process of time (although I now found it impossible) renew life where death had apparently devoted the body to corruption.\\n\\nThese thoughts supported my spirits, while I pursued my undertaking with unremitting ardour. My cheek had grown pale with study, and my person had become emaciated with confinement. Sometimes, on the very brink of certainty, I failed; yet still I clung to the hope which the next day or the next hour might realise. One secret which I alone possessed was the hope to which I had dedicated myself; and the moon gazed on my midnight labours, while, with unrelaxed and breathless eagerness, I pursued nature to her hiding-places. Who shall conceive the horrors of my secret toil as I dabbled among the unhallowed damps of the grave or tortured the living animal to animate the lifeless clay? My limbs now tremble, and my eyes swim with the remembrance; but then a resistless and almost frantic impulse urged me forward; I seemed to have lost all soul or sensation but for this one pursuit. It was indeed but a passing trance, that only made me feel with renewed acuteness so soon as, the unnatural stimulus ceasing to operate, I had returned to my old habits. I collected bones from charnel-houses and disturbed, with profane fingers, the tremendous secrets of the human frame. In a solitary chamber, or rather cell, at the top of the house, and separated from all the other apartments by a gallery and staircase, I kept my workshop of filthy creation; my eyeballs were starting from their sockets in attending to the details of my employment. The dissecting room and the slaughter-house furnished many of my materials; and often did my human nature turn with loathing from my occupation, whilst, still urged on by an eagerness which perpetually increased, I brought my work near to a conclusion.\\n\\nThe summer months passed while I was thus engaged, heart and soul, in one pursuit. It was a most beautiful season; never did the fields bestow a more plentiful harvest or the vines yield a more luxuriant vintage, but my eyes were insensible to the charms of nature. And the same feelings which made me neglect the scenes around me caused me also to forget those friends who were so many miles absent, and whom I had not seen for so long a time. I knew my silence disquieted them, and I well remembered the words of my father: \\x93I know that while you are pleased with yourself you will think of us with affection, and we shall hear regularly from you. You must pardon me if I regard any interruption in your correspondence as a proof that your other duties are equally neglected.\\x94\\n\\nI knew well therefore what would be my father\\x92s feelings, but I could not tear my thoughts from my employment, loathsome in itself, but which had taken an irresistible hold of my imagination. I wished, as it were, to procrastinate all that related to my feelings of affection until the great object, which swallowed up every habit of my nature, should be completed.\\n\\nI then thought that my father would be unjust if he ascribed my neglect to vice or faultiness on my part, but I am now convinced that he was justified in conceiving that I should not be altogether free from blame. A human being in perfection ought always to preserve a calm and peaceful mind and never to allow passion or a transitory desire to disturb his tranquillity. I do not think that the pursuit of knowledge is an exception to this rule. If the study to which you apply yourself has a tendency to weaken your affections and to destroy your taste for those simple pleasures in which no alloy can possibly mix, then that study is certainly unlawful, that is to say, not befitting the human mind. If this rule were always observed; if no man allowed any pursuit whatsoever to interfere with the tranquillity of his domestic affections, Greece had not been enslaved, Cæsar would have spared his country, America would have been discovered more gradually, and the empires of Mexico and Peru had not been destroyed.\\n\\nBut I forget that I am moralizing in the most interesting part of my tale, and your looks remind me to proceed.\\n\\nMy father made no reproach in his letters and only took notice of my silence by inquiring into my occupations more particularly than before. Winter, spring, and summer passed away during my labours; but I did not watch the blossom or the expanding leaves\\x97sights which before always yielded me supreme delight\\x97so deeply was I engrossed in my occupation. The leaves of that year had withered before my work drew near to a close, and now every day showed me more plainly how well I had succeeded. But my enthusiasm was checked by my anxiety, and I appeared rather like one doomed by slavery to toil in the mines, or any other unwholesome trade than an artist occupied by his favourite employment. Every night I was oppressed by a slow fever, and I became nervous to a most painful degree; the fall of a leaf startled me, and I shunned my fellow creatures as if I had been guilty of a crime. Sometimes I grew alarmed at the wreck I perceived that I had become; the energy of my purpose alone sustained me: my labours would soon end, and I believed that exercise and amusement would then drive away incipient disease; and I promised myself both of these when my creation should be complete.'\n",
      " 'It was on a dreary night of November that I beheld the accomplishment of my toils. With an anxiety that almost amounted to agony, I collected the instruments of life around me, that I might infuse a spark of being into the lifeless thing that lay at my feet. It was already one in the morning; the rain pattered dismally against the panes, and my candle was nearly burnt out, when, by the glimmer of the half-extinguished light, I saw the dull yellow eye of the creature open; it breathed hard, and a convulsive motion agitated its limbs.\\n\\nHow can I describe my emotions at this catastrophe, or how delineate the wretch whom with such infinite pains and care I had endeavoured to form? His limbs were in proportion, and I had selected his features as beautiful. Beautiful! Great God! His yellow skin scarcely covered the work of muscles and arteries beneath; his hair was of a lustrous black, and flowing; his teeth of a pearly whiteness; but these luxuriances only formed a more horrid contrast with his watery eyes, that seemed almost of the same colour as the dun-white sockets in which they were set, his shrivelled complexion and straight black lips.\\n\\nThe different accidents of life are not so changeable as the feelings of human nature. I had worked hard for nearly two years, for the sole purpose of infusing life into an inanimate body. For this I had deprived myself of rest and health. I had desired it with an ardour that far exceeded moderation; but now that I had finished, the beauty of the dream vanished, and breathless horror and disgust filled my heart. Unable to endure the aspect of the being I had created, I rushed out of the room and continued a long time traversing my bed-chamber, unable to compose my mind to sleep. At length lassitude succeeded to the tumult I had before endured, and I threw myself on the bed in my clothes, endeavouring to seek a few moments of forgetfulness. But it was in vain; I slept, indeed, but I was disturbed by the wildest dreams. I thought I saw Elizabeth, in the bloom of health, walking in the streets of Ingolstadt. Delighted and surprised, I embraced her, but as I imprinted the first kiss on her lips, they became livid with the hue of death; her features appeared to change, and I thought that I held the corpse of my dead mother in my arms; a shroud enveloped her form, and I saw the grave-worms crawling in the folds of the flannel. I started from my sleep with horror; a cold dew covered my forehead, my teeth chattered, and every limb became convulsed; when, by the dim and yellow light of the moon, as it forced its way through the window shutters, I beheld the wretch\\x97the miserable monster whom I had created. He held up the curtain of the bed; and his eyes, if eyes they may be called, were fixed on me. His jaws opened, and he muttered some inarticulate sounds, while a grin wrinkled his cheeks. He might have spoken, but I did not hear; one hand was stretched out, seemingly to detain me, but I escaped and rushed downstairs. I took refuge in the courtyard belonging to the house which I inhabited, where I remained during the rest of the night, walking up and down in the greatest agitation, listening attentively, catching and fearing each sound as if it were to announce the approach of the demoniacal corpse to which I had so miserably given life.\\n\\nOh! No mortal could support the horror of that countenance. A mummy again endued with animation could not be so hideous as that wretch. I had gazed on him while unfinished; he was ugly then, but when those muscles and joints were rendered capable of motion, it became a thing such as even Dante could not have conceived.\\n\\nI passed the night wretchedly. Sometimes my pulse beat so quickly and hardly that I felt the palpitation of every artery; at others, I nearly sank to the ground through languor and extreme weakness. Mingled with this horror, I felt the bitterness of disappointment; dreams that had been my food and pleasant rest for so long a space were now become a hell to me; and the change was so rapid, the overthrow so complete!\\n\\nMorning, dismal and wet, at length dawned and discovered to my sleepless and aching eyes the church of Ingolstadt, its white steeple and clock, which indicated the sixth hour. The porter opened the gates of the court, which had that night been my asylum, and I issued into the streets, pacing them with quick steps, as if I sought to avoid the wretch whom I feared every turning of the street would present to my view. I did not dare return to the apartment which I inhabited, but felt impelled to hurry on, although drenched by the rain which poured from a black and comfortless sky.\\n\\nI continued walking in this manner for some time, endeavouring by bodily exercise to ease the load that weighed upon my mind. I traversed the streets without any clear conception of where I was or what I was doing. My heart palpitated in the sickness of fear, and I hurried on with irregular steps, not daring to look about me:\\n\\nLike one who, on a lonely road,\\nDoth walk in fear and dread,\\nAnd, having once turned round, walks on,\\nAnd turns no more his head;\\nBecause he knows a frightful fiend\\nDoth close behind him tread.\\n\\n[Coleridge\\x92s \\x93Ancient Mariner.\\x94]\\n\\nContinuing thus, I came at length opposite to the inn at which the various diligences and carriages usually stopped. Here I paused, I knew not why; but I remained some minutes with my eyes fixed on a coach that was coming towards me from the other end of the street. As it drew nearer I observed that it was the Swiss diligence; it stopped just where I was standing, and on the door being opened, I perceived Henry Clerval, who, on seeing me, instantly sprung out. \\x93My dear Frankenstein,\\x94 exclaimed he, \\x93how glad I am to see you! How fortunate that you should be here at the very moment of my alighting!\\x94\\n\\nNothing could equal my delight on seeing Clerval; his presence brought back to my thoughts my father, Elizabeth, and all those scenes of home so dear to my recollection. I grasped his hand, and in a moment forgot my horror and misfortune; I felt suddenly, and for the first time during many months, calm and serene joy. I welcomed my friend, therefore, in the most cordial manner, and we walked towards my college. Clerval continued talking for some time about our mutual friends and his own good fortune in being permitted to come to Ingolstadt. \\x93You may easily believe,\\x94 said he, \\x93how great was the difficulty to persuade my father that all necessary knowledge was not comprised in the noble art of book-keeping; and, indeed, I believe I left him incredulous to the last, for his constant answer to my unwearied entreaties was the same as that of the Dutch schoolmaster in The Vicar of Wakefield: \\x91I have ten thousand florins a year without Greek, I eat heartily without Greek.\\x92 But his affection for me at length overcame his dislike of learning, and he has permitted me to undertake a voyage of discovery to the land of knowledge.\\x94\\n\\n\\x93It gives me the greatest delight to see you; but tell me how you left my father, brothers, and Elizabeth.\\x94\\n\\n\\x93Very well, and very happy, only a little uneasy that they hear from you so seldom. By the by, I mean to lecture you a little upon their account myself. But, my dear Frankenstein,\\x94 continued he, stopping short and gazing full in my face, \\x93I did not before remark how very ill you appear; so thin and pale; you look as if you had been watching for several nights.\\x94\\n\\n\\x93You have guessed right; I have lately been so deeply engaged in one occupation that I have not allowed myself sufficient rest, as you see; but I hope, I sincerely hope, that all these employments are now at an end and that I am at length free.\\x94\\n\\nI trembled excessively; I could not endure to think of, and far less to allude to, the occurrences of the preceding night. I walked with a quick pace, and we soon arrived at my college. I then reflected, and the thought made me shiver, that the creature whom I had left in my apartment might still be there, alive and walking about. I dreaded to behold this monster, but I feared still more that Henry should see him. Entreating him, therefore, to remain a few minutes at the bottom of the stairs, I darted up towards my own room. My hand was already on the lock of the door before I recollected myself. I then paused, and a cold shivering came over me. I threw the door forcibly open, as children are accustomed to do when they expect a spectre to stand in waiting for them on the other side; but nothing appeared. I stepped fearfully in: the apartment was empty, and my bedroom was also freed from its hideous guest. I could hardly believe that so great a good fortune could have befallen me, but when I became assured that my enemy had indeed fled, I clapped my hands for joy and ran down to Clerval.\\n\\nWe ascended into my room, and the servant presently brought breakfast; but I was unable to contain myself. It was not joy only that possessed me; I felt my flesh tingle with excess of sensitiveness, and my pulse beat rapidly. I was unable to remain for a single instant in the same place; I jumped over the chairs, clapped my hands, and laughed aloud. Clerval at first attributed my unusual spirits to joy on his arrival, but when he observed me more attentively, he saw a wildness in my eyes for which he could not account, and my loud, unrestrained, heartless laughter frightened and astonished him.\\n\\n\\x93My dear Victor,\\x94 cried he, \\x93what, for God\\x92s sake, is the matter? Do not laugh in that manner. How ill you are! What is the cause of all this?\\x94\\n\\n\\x93Do not ask me,\\x94 cried I, putting my hands before my eyes, for I thought I saw the dreaded spectre glide into the room; \\x93he can tell. Oh, save me! Save me!\\x94 I imagined that the monster seized me; I struggled furiously and fell down in a fit.\\n\\nPoor Clerval! What must have been his feelings? A meeting, which he anticipated with such joy, so strangely turned to bitterness. But I was not the witness of his grief, for I was lifeless and did not recover my senses for a long, long time.\\n\\nThis was the commencement of a nervous fever which confined me for several months. During all that time Henry was my only nurse. I afterwards learned that, knowing my father\\x92s advanced age and unfitness for so long a journey, and how wretched my sickness would make Elizabeth, he spared them this grief by concealing the extent of my disorder. He knew that I could not have a more kind and attentive nurse than himself; and, firm in the hope he felt of my recovery, he did not doubt that, instead of doing harm, he performed the kindest action that he could towards them.\\n\\nBut I was in reality very ill, and surely nothing but the unbounded and unremitting attentions of my friend could have restored me to life. The form of the monster on whom I had bestowed existence was for ever before my eyes, and I raved incessantly concerning him. Doubtless my words surprised Henry; he at first believed them to be the wanderings of my disturbed imagination, but the pertinacity with which I continually recurred to the same subject persuaded him that my disorder indeed owed its origin to some uncommon and terrible event.\\n\\nBy very slow degrees, and with frequent relapses that alarmed and grieved my friend, I recovered. I remember the first time I became capable of observing outward objects with any kind of pleasure, I perceived that the fallen leaves had disappeared and that the young buds were shooting forth from the trees that shaded my window. It was a divine spring, and the season contributed greatly to my convalescence. I felt also sentiments of joy and affection revive in my bosom; my gloom disappeared, and in a short time I became as cheerful as before I was attacked by the fatal passion.\\n\\n\\x93Dearest Clerval,\\x94 exclaimed I, \\x93how kind, how very good you are to me. This whole winter, instead of being spent in study, as you promised yourself, has been consumed in my sick room. How shall I ever repay you? I feel the greatest remorse for the disappointment of which I have been the occasion, but you will forgive me.\\x94\\n\\n\\x93You will repay me entirely if you do not discompose yourself, but get well as fast as you can; and since you appear in such good spirits, I may speak to you on one subject, may I not?\\x94\\n\\nI trembled. One subject! What could it be? Could he allude to an object on whom I dared not even think?\\n\\n\\x93Compose yourself,\\x94 said Clerval, who observed my change of colour, \\x93I will not mention it if it agitates you; but your father and cousin would be very happy if they received a letter from you in your own handwriting. They hardly know how ill you have been and are uneasy at your long silence.\\x94\\n\\n\\x93Is that all, my dear Henry? How could you suppose that my first thought would not fly towards those dear, dear friends whom I love and who are so deserving of my love?\\x94\\n\\n\\x93If this is your present temper, my friend, you will perhaps be glad to see a letter that has been lying here some days for you; it is from your cousin, I believe.\\x94'\n",
      " 'Alice was beginning to get very tired of sitting by her sister on the bank, and of having nothing to do: once or twice she had peeped into the book her sister was reading, but it had no pictures or conversations in it, \\x93and what is the use of a book,\\x94 thought Alice \\x93without pictures or conversations?\\x94\\n\\nSo she was considering in her own mind (as well as she could, for the hot day made her feel very sleepy and stupid), whether the pleasure of making a daisy-chain would be worth the trouble of getting up and picking the daisies, when suddenly a White Rabbit with pink eyes ran close by her.\\n\\nThere was nothing so very remarkable in that; nor did Alice think it so very much out of the way to hear the Rabbit say to itself, \\x93Oh dear! Oh dear! I shall be late!\\x94 (when she thought it over afterwards, it occurred to her that she ought to have wondered at this, but at the time it all seemed quite natural); but when the Rabbit actually took a watch out of its waistcoat-pocket, and looked at it, and then hurried on, Alice started to her feet, for it flashed across her mind that she had never before seen a rabbit with either a waistcoat-pocket, or a watch to take out of it, and burning with curiosity, she ran across the field after it, and fortunately was just in time to see it pop down a large rabbit-hole under the hedge.\\n\\nIn another moment down went Alice after it, never once considering how in the world she was to get out again.\\n\\nThe rabbit-hole went straight on like a tunnel for some way, and then dipped suddenly down, so suddenly that Alice had not a moment to think about stopping herself before she found herself falling down a very deep well.\\n\\nEither the well was very deep, or she fell very slowly, for she had plenty of time as she went down to look about her and to wonder what was going to happen next. First, she tried to look down and make out what she was coming to, but it was too dark to see anything; then she looked at the sides of the well, and noticed that they were filled with cupboards and book-shelves; here and there she saw maps and pictures hung upon pegs. She took down a jar from one of the shelves as she passed; it was labelled \\x93ORANGE MARMALADE\\x94, but to her great disappointment it was empty: she did not like to drop the jar for fear of killing somebody underneath, so managed to put it into one of the cupboards as she fell past it.\\n\\n\\x93Well!\\x94 thought Alice to herself, \\x93after such a fall as this, I shall think nothing of tumbling down stairs! How brave they\\x92ll all think me at home! Why, I wouldn\\x92t say anything about it, even if I fell off the top of the house!\\x94 (Which was very likely true.)\\n\\nDown, down, down. Would the fall never come to an end? \\x93I wonder how many miles I\\x92ve fallen by this time?\\x94 she said aloud. \\x93I must be getting somewhere near the centre of the earth. Let me see: that would be four thousand miles down, I think\\x97\\x94 (for, you see, Alice had learnt several things of this sort in her lessons in the schoolroom, and though this was not a very good opportunity for showing off her knowledge, as there was no one to listen to her, still it was good practice to say it over) \\x93\\x97yes, that\\x92s about the right distance\\x97but then I wonder what Latitude or Longitude I\\x92ve got to?\\x94 (Alice had no idea what Latitude was, or Longitude either, but thought they were nice grand words to say.)\\n\\nPresently she began again. \\x93I wonder if I shall fall right through the earth! How funny it\\x92ll seem to come out among the people that walk with their heads downward! The Antipathies, I think\\x97\\x94 (she was rather glad there was no one listening, this time, as it didn\\x92t sound at all the right word) \\x93\\x97but I shall have to ask them what the name of the country is, you know. Please, Ma\\x92am, is this New Zealand or Australia?\\x94 (and she tried to curtsey as she spoke\\x97fancy curtseying as you\\x92re falling through the air! Do you think you could manage it?) \\x93And what an ignorant little girl she\\x92ll think me for asking! No, it\\x92ll never do to ask: perhaps I shall see it written up somewhere.\\x94\\n\\nDown, down, down. There was nothing else to do, so Alice soon began talking again. \\x93Dinah\\x92ll miss me very much to-night, I should think!\\x94 (Dinah was the cat.) \\x93I hope they\\x92ll remember her saucer of milk at tea-time. Dinah my dear! I wish you were down here with me! There are no mice in the air, I\\x92m afraid, but you might catch a bat, and that\\x92s very like a mouse, you know. But do cats eat bats, I wonder?\\x94 And here Alice began to get rather sleepy, and went on saying to herself, in a dreamy sort of way, \\x93Do cats eat bats? Do cats eat bats?\\x94 and sometimes, \\x93Do bats eat cats?\\x94 for, you see, as she couldn\\x92t answer either question, it didn\\x92t much matter which way she put it. She felt that she was dozing off, and had just begun to dream that she was walking hand in hand with Dinah, and saying to her very earnestly, \\x93Now, Dinah, tell me the truth: did you ever eat a bat?\\x94 when suddenly, thump! thump! down she came upon a heap of sticks and dry leaves, and the fall was over.\\n\\nAlice was not a bit hurt, and she jumped up on to her feet in a moment: she looked up, but it was all dark overhead; before her was another long passage, and the White Rabbit was still in sight, hurrying down it. There was not a moment to be lost: away went Alice like the wind, and was just in time to hear it say, as it turned a corner, \\x93Oh my ears and whiskers, how late it\\x92s getting!\\x94 She was close behind it when she turned the corner, but the Rabbit was no longer to be seen: she found herself in a long, low hall, which was lit up by a row of lamps hanging from the roof.\\n\\nThere were doors all round the hall, but they were all locked; and when Alice had been all the way down one side and up the other, trying every door, she walked sadly down the middle, wondering how she was ever to get out again.\\n\\nSuddenly she came upon a little three-legged table, all made of solid glass; there was nothing on it except a tiny golden key, and Alice\\x92s first thought was that it might belong to one of the doors of the hall; but, alas! either the locks were too large, or the key was too small, but at any rate it would not open any of them. However, on the second time round, she came upon a low curtain she had not noticed before, and behind it was a little door about fifteen inches high: she tried the little golden key in the lock, and to her great delight it fitted!\\n\\nAlice opened the door and found that it led into a small passage, not much larger than a rat-hole: she knelt down and looked along the passage into the loveliest garden you ever saw. How she longed to get out of that dark hall, and wander about among those beds of bright flowers and those cool fountains, but she could not even get her head through the doorway; \\x93and even if my head would go through,\\x94 thought poor Alice, \\x93it would be of very little use without my shoulders. Oh, how I wish I could shut up like a telescope! I think I could, if I only knew how to begin.\\x94 For, you see, so many out-of-the-way things had happened lately, that Alice had begun to think that very few things indeed were really impossible.\\n\\nThere seemed to be no use in waiting by the little door, so she went back to the table, half hoping she might find another key on it, or at any rate a book of rules for shutting people up like telescopes: this time she found a little bottle on it, (\\x93which certainly was not here before,\\x94 said Alice,) and round the neck of the bottle was a paper label, with the words \\x93DRINK ME,\\x94 beautifully printed on it in large letters.\\n\\nIt was all very well to say \\x93Drink me,\\x94 but the wise little Alice was not going to do that in a hurry. \\x93No, I\\x92ll look first,\\x94 she said, \\x93and see whether it\\x92s marked \\x91poison\\x92 or not\\x94; for she had read several nice little histories about children who had got burnt, and eaten up by wild beasts and other unpleasant things, all because they would not remember the simple rules their friends had taught them: such as, that a red-hot poker will burn you if you hold it too long; and that if you cut your finger very deeply with a knife, it usually bleeds; and she had never forgotten that, if you drink much from a bottle marked \\x93poison,\\x94 it is almost certain to disagree with you, sooner or later.\\n\\nHowever, this bottle was not marked \\x93poison,\\x94 so Alice ventured to taste it, and finding it very nice, (it had, in fact, a sort of mixed flavour of cherry-tart, custard, pine-apple, roast turkey, toffee, and hot buttered toast,) she very soon finished it off.\\n\\n \\x93What a curious feeling!\\x94 said Alice; \\x93I must be shutting up like a telescope.\\x94\\n\\nAnd so it was indeed: she was now only ten inches high, and her face brightened up at the thought that she was now the right size for going through the little door into that lovely garden. First, however, she waited for a few minutes to see if she was going to shrink any further: she felt a little nervous about this; \\x93for it might end, you know,\\x94 said Alice to herself, \\x93in my going out altogether, like a candle. I wonder what I should be like then?\\x94 And she tried to fancy what the flame of a candle is like after the candle is blown out, for she could not remember ever having seen such a thing.\\n\\nAfter a while, finding that nothing more happened, she decided on going into the garden at once; but, alas for poor Alice! when she got to the door, she found she had forgotten the little golden key, and when she went back to the table for it, she found she could not possibly reach it: she could see it quite plainly through the glass, and she tried her best to climb up one of the legs of the table, but it was too slippery; and when she had tired herself out with trying, the poor little thing sat down and cried.\\n\\n\\x93Come, there\\x92s no use in crying like that!\\x94 said Alice to herself, rather sharply; \\x93I advise you to leave off this minute!\\x94 She generally gave herself very good advice, (though she very seldom followed it), and sometimes she scolded herself so severely as to bring tears into her eyes; and once she remembered trying to box her own ears for having cheated herself in a game of croquet she was playing against herself, for this curious child was very fond of pretending to be two people. \\x93But it\\x92s no use now,\\x94 thought poor Alice, \\x93to pretend to be two people! Why, there\\x92s hardly enough of me left to make one respectable person!\\x94\\n\\nSoon her eye fell on a little glass box that was lying under the table: she opened it, and found in it a very small cake, on which the words \\x93EAT ME\\x94 were beautifully marked in currants. \\x93Well, I\\x92ll eat it,\\x94 said Alice, \\x93and if it makes me grow larger, I can reach the key; and if it makes me grow smaller, I can creep under the door; so either way I\\x92ll get into the garden, and I don\\x92t care which happens!\\x94\\n\\nShe ate a little bit, and said anxiously to herself, \\x93Which way? Which way?\\x94, holding her hand on the top of her head to feel which way it was growing, and she was quite surprised to find that she remained the same size: to be sure, this generally happens when one eats cake, but Alice had got so much into the way of expecting nothing but out-of-the-way things to happen, that it seemed quite dull and stupid for life to go on in the common way.\\n\\nSo she set to work, and very soon finished off the cake.'\n",
      " '\\x93Curiouser and curiouser!\\x94 cried Alice (she was so much surprised, that for the moment she quite forgot how to speak good English); \\x93now I\\x92m opening out like the largest telescope that ever was! Good-bye, feet!\\x94 (for when she looked down at her feet, they seemed to be almost out of sight, they were getting so far off). \\x93Oh, my poor little feet, I wonder who will put on your shoes and stockings for you now, dears? I\\x92m sure I shan\\x92t be able! I shall be a great deal too far off to trouble myself about you: you must manage the best way you can;\\x97but I must be kind to them,\\x94 thought Alice, \\x93or perhaps they won\\x92t walk the way I want to go! Let me see: I\\x92ll give them a new pair of boots every Christmas.\\x94\\n\\nAnd she went on planning to herself how she would manage it. \\x93They must go by the carrier,\\x94 she thought; \\x93and how funny it\\x92ll seem, sending presents to one\\x92s own feet! And how odd the directions will look!\\n\\nAlice\\x92s Right Foot, Esq.,\\nHearthrug,\\nnear the Fender,\\n(with Alice\\x92s love).\\n\\nOh dear, what nonsense I\\x92m talking!\\x94\\n\\nJust then her head struck against the roof of the hall: in fact she was now more than nine feet high, and she at once took up the little golden key and hurried off to the garden door.\\n\\nPoor Alice! It was as much as she could do, lying down on one side, to look through into the garden with one eye; but to get through was more hopeless than ever: she sat down and began to cry again.\\n\\n\\x93You ought to be ashamed of yourself,\\x94 said Alice, \\x93a great girl like you,\\x94 (she might well say this), \\x93to go on crying in this way! Stop this moment, I tell you!\\x94 But she went on all the same, shedding gallons of tears, until there was a large pool all round her, about four inches deep and reaching half down the hall.\\n\\nAfter a time she heard a little pattering of feet in the distance, and she hastily dried her eyes to see what was coming. It was the White Rabbit returning, splendidly dressed, with a pair of white kid gloves in one hand and a large fan in the other: he came trotting along in a great hurry, muttering to himself as he came, \\x93Oh! the Duchess, the Duchess! Oh! won\\x92t she be savage if I\\x92ve kept her waiting!\\x94 Alice felt so desperate that she was ready to ask help of any one; so, when the Rabbit came near her, she began, in a low, timid voice, \\x93If you please, sir\\x97\\x94 The Rabbit started violently, dropped the white kid gloves and the fan, and skurried away into the darkness as hard as he could go.\\n\\nAlice took up the fan and gloves, and, as the hall was very hot, she kept fanning herself all the time she went on talking: \\x93Dear, dear! How queer everything is to-day! And yesterday things went on just as usual. I wonder if I\\x92ve been changed in the night? Let me think: was I the same when I got up this morning? I almost think I can remember feeling a little different. But if I\\x92m not the same, the next question is, Who in the world am I? Ah, that\\x92s the great puzzle!\\x94 And she began thinking over all the children she knew that were of the same age as herself, to see if she could have been changed for any of them.\\n\\n\\x93I\\x92m sure I\\x92m not Ada,\\x94 she said, \\x93for her hair goes in such long ringlets, and mine doesn\\x92t go in ringlets at all; and I\\x92m sure I can\\x92t be Mabel, for I know all sorts of things, and she, oh! she knows such a very little! Besides, she\\x92s she, and I\\x92m I, and\\x97oh dear, how puzzling it all is! I\\x92ll try if I know all the things I used to know. Let me see: four times five is twelve, and four times six is thirteen, and four times seven is\\x97oh dear! I shall never get to twenty at that rate! However, the Multiplication Table doesn\\x92t signify: let\\x92s try Geography. London is the capital of Paris, and Paris is the capital of Rome, and Rome\\x97no, that\\x92s all wrong, I\\x92m certain! I must have been changed for Mabel! I\\x92ll try and say \\x91How doth the little\\x97\\x92\\x94 and she crossed her hands on her lap as if she were saying lessons, and began to repeat it, but her voice sounded hoarse and strange, and the words did not come the same as they used to do:\\x97\\n\\n\\x93How doth the little crocodile\\nImprove his shining tail,\\nAnd pour the waters of the Nile\\nOn every golden scale!\\n\\n\\x93How cheerfully he seems to grin,\\nHow neatly spread his claws,\\nAnd welcome little fishes in\\nWith gently smiling jaws!\\x94\\n\\n\\x93I\\x92m sure those are not the right words,\\x94 said poor Alice, and her eyes filled with tears again as she went on, \\x93I must be Mabel after all, and I shall have to go and live in that poky little house, and have next to no toys to play with, and oh! ever so many lessons to learn! No, I\\x92ve made up my mind about it; if I\\x92m Mabel, I\\x92ll stay down here! It\\x92ll be no use their putting their heads down and saying \\x91Come up again, dear!\\x92 I shall only look up and say \\x91Who am I then? Tell me that first, and then, if I like being that person, I\\x92ll come up: if not, I\\x92ll stay down here till I\\x92m somebody else\\x92\\x97but, oh dear!\\x94 cried Alice, with a sudden burst of tears, \\x93I do wish they would put their heads down! I am so very tired of being all alone here!\\x94\\n\\nAs she said this she looked down at her hands, and was surprised to see that she had put on one of the Rabbit\\x92s little white kid gloves while she was talking. \\x93How can I have done that?\\x94 she thought. \\x93I must be growing small again.\\x94 She got up and went to the table to measure herself by it, and found that, as nearly as she could guess, she was now about two feet high, and was going on shrinking rapidly: she soon found out that the cause of this was the fan she was holding, and she dropped it hastily, just in time to avoid shrinking away altogether.\\n\\n\\x93That was a narrow escape!\\x94 said Alice, a good deal frightened at the sudden change, but very glad to find herself still in existence; \\x93and now for the garden!\\x94 and she ran with all speed back to the little door: but, alas! the little door was shut again, and the little golden key was lying on the glass table as before, \\x93and things are worse than ever,\\x94 thought the poor child, \\x93for I never was so small as this before, never! And I declare it\\x92s too bad, that it is!\\x94\\n\\nAs she said these words her foot slipped, and in another moment, splash! she was up to her chin in salt water. Her first idea was that she had somehow fallen into the sea, \\x93and in that case I can go back by railway,\\x94 she said to herself. (Alice had been to the seaside once in her life, and had come to the general conclusion, that wherever you go to on the English coast you find a number of bathing machines in the sea, some children digging in the sand with wooden spades, then a row of lodging houses, and behind them a railway station.) However, she soon made out that she was in the pool of tears which she had wept when she was nine feet high.\\n\\n\\x93I wish I hadn\\x92t cried so much!\\x94 said Alice, as she swam about, trying to find her way out. \\x93I shall be punished for it now, I suppose, by being drowned in my own tears! That will be a queer thing, to be sure! However, everything is queer to-day.\\x94\\n\\nJust then she heard something splashing about in the pool a little way off, and she swam nearer to make out what it was: at first she thought it must be a walrus or hippopotamus, but then she remembered how small she was now, and she soon made out that it was only a mouse that had slipped in like herself.\\n\\n\\x93Would it be of any use, now,\\x94 thought Alice, \\x93to speak to this mouse? Everything is so out-of-the-way down here, that I should think very likely it can talk: at any rate, there\\x92s no harm in trying.\\x94 So she began: \\x93O Mouse, do you know the way out of this pool? I am very tired of swimming about here, O Mouse!\\x94 (Alice thought this must be the right way of speaking to a mouse: she had never done such a thing before, but she remembered having seen in her brother\\x92s Latin Grammar, \\x93A mouse\\x97of a mouse\\x97to a mouse\\x97a mouse\\x97O mouse!\\x94) The Mouse looked at her rather inquisitively, and seemed to her to wink with one of its little eyes, but it said nothing.\\n\\n\\x93Perhaps it doesn\\x92t understand English,\\x94 thought Alice; \\x93I daresay it\\x92s a French mouse, come over with William the Conqueror.\\x94 (For, with all her knowledge of history, Alice had no very clear notion how long ago anything had happened.) So she began again: \\x93Où est ma chatte?\\x94 which was the first sentence in her French lesson-book. The Mouse gave a sudden leap out of the water, and seemed to quiver all over with fright. \\x93Oh, I beg your pardon!\\x94 cried Alice hastily, afraid that she had hurt the poor animal\\x92s feelings. \\x93I quite forgot you didn\\x92t like cats.\\x94\\n\\n\\x93Not like cats!\\x94 cried the Mouse, in a shrill, passionate voice. \\x93Would you like cats if you were me?\\x94\\n\\n\\x93Well, perhaps not,\\x94 said Alice in a soothing tone: \\x93don\\x92t be angry about it. And yet I wish I could show you our cat Dinah: I think you\\x92d take a fancy to cats if you could only see her. She is such a dear quiet thing,\\x94 Alice went on, half to herself, as she swam lazily about in the pool, \\x93and she sits purring so nicely by the fire, licking her paws and washing her face\\x97and she is such a nice soft thing to nurse\\x97and she\\x92s such a capital one for catching mice\\x97oh, I beg your pardon!\\x94 cried Alice again, for this time the Mouse was bristling all over, and she felt certain it must be really offended. \\x93We won\\x92t talk about her any more if you\\x92d rather not.\\x94\\n\\n\\x93We indeed!\\x94 cried the Mouse, who was trembling down to the end of his tail. \\x93As if I would talk on such a subject! Our family always hated cats: nasty, low, vulgar things! Don\\x92t let me hear the name again!\\x94\\n\\n\\x93I won\\x92t indeed!\\x94 said Alice, in a great hurry to change the subject of conversation. \\x93Are you\\x97are you fond\\x97of\\x97of dogs?\\x94 The Mouse did not answer, so Alice went on eagerly: \\x93There is such a nice little dog near our house I should like to show you! A little bright-eyed terrier, you know, with oh, such long curly brown hair! And it\\x92ll fetch things when you throw them, and it\\x92ll sit up and beg for its dinner, and all sorts of things\\x97I can\\x92t remember half of them\\x97and it belongs to a farmer, you know, and he says it\\x92s so useful, it\\x92s worth a hundred pounds! He says it kills all the rats and\\x97oh dear!\\x94 cried Alice in a sorrowful tone, \\x93I\\x92m afraid I\\x92ve offended it again!\\x94 For the Mouse was swimming away from her as hard as it could go, and making quite a commotion in the pool as it went.\\n\\nSo she called softly after it, \\x93Mouse dear! Do come back again, and we won\\x92t talk about cats or dogs either, if you don\\x92t like them!\\x94 When the Mouse heard this, it turned round and swam slowly back to her: its face was quite pale (with passion, Alice thought), and it said in a low trembling voice, \\x93Let us get to the shore, and then I\\x92ll tell you my history, and you\\x92ll understand why it is I hate cats and dogs.\\x94\\n\\nIt was high time to go, for the pool was getting quite crowded with the birds and animals that had fallen into it: there were a Duck and a Dodo, a Lory and an Eaglet, and several other curious creatures. Alice led the way, and the whole party swam to the shore.'\n",
      " 'They were indeed a queer-looking party that assembled on the bank\\x97the birds with draggled feathers, the animals with their fur clinging close to them, and all dripping wet, cross, and uncomfortable.\\n\\nThe first question of course was, how to get dry again: they had a consultation about this, and after a few minutes it seemed quite natural to Alice to find herself talking familiarly with them, as if she had known them all her life. Indeed, she had quite a long argument with the Lory, who at last turned sulky, and would only say, \\x93I am older than you, and must know better;\\x94 and this Alice would not allow without knowing how old it was, and, as the Lory positively refused to tell its age, there was no more to be said.\\n\\nAt last the Mouse, who seemed to be a person of authority among them, called out, \\x93Sit down, all of you, and listen to me! I\\x92ll soon make you dry enough!\\x94 They all sat down at once, in a large ring, with the Mouse in the middle. Alice kept her eyes anxiously fixed on it, for she felt sure she would catch a bad cold if she did not get dry very soon.\\n\\n\\x93Ahem!\\x94 said the Mouse with an important air, \\x93are you all ready? This is the driest thing I know. Silence all round, if you please! \\x91William the Conqueror, whose cause was favoured by the pope, was soon submitted to by the English, who wanted leaders, and had been of late much accustomed to usurpation and conquest. Edwin and Morcar, the earls of Mercia and Northumbria\\x97\\x92\\x94\\n\\n\\x93Ugh!\\x94 said the Lory, with a shiver.\\n\\n\\x93I beg your pardon!\\x94 said the Mouse, frowning, but very politely: \\x93Did you speak?\\x94\\n\\n\\x93Not I!\\x94 said the Lory hastily.\\n\\n\\x93I thought you did,\\x94 said the Mouse. \\x93\\x97I proceed. \\x91Edwin and Morcar, the earls of Mercia and Northumbria, declared for him: and even Stigand, the patriotic archbishop of Canterbury, found it advisable\\x97\\x92\\x94\\n\\n\\x93Found what?\\x94 said the Duck.\\n\\n\\x93Found it,\\x94 the Mouse replied rather crossly: \\x93of course you know what \\x91it\\x92 means.\\x94\\n\\n\\x93I know what \\x91it\\x92 means well enough, when I find a thing,\\x94 said the Duck: \\x93it\\x92s generally a frog or a worm. The question is, what did the archbishop find?\\x94\\n\\nThe Mouse did not notice this question, but hurriedly went on, \\x93\\x91\\x97found it advisable to go with Edgar Atheling to meet William and offer him the crown. William\\x92s conduct at first was moderate. But the insolence of his Normans\\x97\\x92 How are you getting on now, my dear?\\x94 it continued, turning to Alice as it spoke.\\n\\n\\x93As wet as ever,\\x94 said Alice in a melancholy tone: \\x93it doesn\\x92t seem to dry me at all.\\x94\\n\\n\\x93In that case,\\x94 said the Dodo solemnly, rising to its feet, \\x93I move that the meeting adjourn, for the immediate adoption of more energetic remedies\\x97\\x94\\n\\n\\x93Speak English!\\x94 said the Eaglet. \\x93I don\\x92t know the meaning of half those long words, and, what\\x92s more, I don\\x92t believe you do either!\\x94 And the Eaglet bent down its head to hide a smile: some of the other birds tittered audibly.\\n\\n\\x93What I was going to say,\\x94 said the Dodo in an offended tone, \\x93was, that the best thing to get us dry would be a Caucus-race.\\x94\\n\\n\\x93What is a Caucus-race?\\x94 said Alice; not that she wanted much to know, but the Dodo had paused as if it thought that somebody ought to speak, and no one else seemed inclined to say anything.\\n\\n\\x93Why,\\x94 said the Dodo, \\x93the best way to explain it is to do it.\\x94 (And, as you might like to try the thing yourself, some winter day, I will tell you how the Dodo managed it.)\\n\\nFirst it marked out a race-course, in a sort of circle, (\\x93the exact shape doesn\\x92t matter,\\x94 it said,) and then all the party were placed along the course, here and there. There was no \\x93One, two, three, and away,\\x94 but they began running when they liked, and left off when they liked, so that it was not easy to know when the race was over. However, when they had been running half an hour or so, and were quite dry again, the Dodo suddenly called out \\x93The race is over!\\x94 and they all crowded round it, panting, and asking, \\x93But who has won?\\x94\\n\\nThis question the Dodo could not answer without a great deal of thought, and it sat for a long time with one finger pressed upon its forehead (the position in which you usually see Shakespeare, in the pictures of him), while the rest waited in silence. At last the Dodo said, \\x93Everybody has won, and all must have prizes.\\x94\\n\\n\\x93But who is to give the prizes?\\x94 quite a chorus of voices asked.\\n\\n\\x93Why, she, of course,\\x94 said the Dodo, pointing to Alice with one finger; and the whole party at once crowded round her, calling out in a confused way, \\x93Prizes! Prizes!\\x94\\n\\nAlice had no idea what to do, and in despair she put her hand in her pocket, and pulled out a box of comfits, (luckily the salt water had not got into it), and handed them round as prizes. There was exactly one a-piece, all round.\\n\\n\\x93But she must have a prize herself, you know,\\x94 said the Mouse.\\n\\n\\x93Of course,\\x94 the Dodo replied very gravely. \\x93What else have you got in your pocket?\\x94 he went on, turning to Alice.\\n\\n\\x93Only a thimble,\\x94 said Alice sadly.\\n\\n\\x93Hand it over here,\\x94 said the Dodo.\\n\\nThen they all crowded round her once more, while the Dodo solemnly presented the thimble, saying \\x93We beg your acceptance of this elegant thimble;\\x94 and, when it had finished this short speech, they all cheered.\\n\\nAlice thought the whole thing very absurd, but they all looked so grave that she did not dare to laugh; and, as she could not think of anything to say, she simply bowed, and took the thimble, looking as solemn as she could.\\n\\nThe next thing was to eat the comfits: this caused some noise and confusion, as the large birds complained that they could not taste theirs, and the small ones choked and had to be patted on the back. However, it was over at last, and they sat down again in a ring, and begged the Mouse to tell them something more.\\n\\n\\x93You promised to tell me your history, you know,\\x94 said Alice, \\x93and why it is you hate\\x97C and D,\\x94 she added in a whisper, half afraid that it would be offended again.\\n\\n\\x93Mine is a long and a sad tale!\\x94 said the Mouse, turning to Alice, and sighing.\\n\\n\\x93It is a long tail, certainly,\\x94 said Alice, looking down with wonder at the Mouse\\x92s tail; \\x93but why do you call it sad?\\x94 And she kept on puzzling about it while the Mouse was speaking, so that her idea of the tale was something like this:\\n\\n\\x93You are not attending!\\x94 said the Mouse to Alice severely. \\x93What are you thinking of?\\x94\\n\\n\\x93I beg your pardon,\\x94 said Alice very humbly: \\x93you had got to the fifth bend, I think?\\x94\\n\\n\\x93I had not!\\x94 cried the Mouse, sharply and very angrily.\\n\\n\\x93A knot!\\x94 said Alice, always ready to make herself useful, and looking anxiously about her. \\x93Oh, do let me help to undo it!\\x94\\n\\n\\x93I shall do nothing of the sort,\\x94 said the Mouse, getting up and walking away. \\x93You insult me by talking such nonsense!\\x94\\n\\n\\x93I didn\\x92t mean it!\\x94 pleaded poor Alice. \\x93But you\\x92re so easily offended, you know!\\x94\\n\\nThe Mouse only growled in reply.\\n\\n\\x93Please come back and finish your story!\\x94 Alice called after it; and the others all joined in chorus, \\x93Yes, please do!\\x94 but the Mouse only shook its head impatiently, and walked a little quicker.\\n\\n\\x93What a pity it wouldn\\x92t stay!\\x94 sighed the Lory, as soon as it was quite out of sight; and an old Crab took the opportunity of saying to her daughter \\x93Ah, my dear! Let this be a lesson to you never to lose your temper!\\x94 \\x93Hold your tongue, Ma!\\x94 said the young Crab, a little snappishly. \\x93You\\x92re enough to try the patience of an oyster!\\x94\\n\\n\\x93I wish I had our Dinah here, I know I do!\\x94 said Alice aloud, addressing nobody in particular. \\x93She\\x92d soon fetch it back!\\x94\\n\\n\\x93And who is Dinah, if I might venture to ask the question?\\x94 said the Lory.\\n\\nAlice replied eagerly, for she was always ready to talk about her pet: \\x93Dinah\\x92s our cat. And she\\x92s such a capital one for catching mice you can\\x92t think! And oh, I wish you could see her after the birds! Why, she\\x92ll eat a little bird as soon as look at it!\\x94\\n\\nThis speech caused a remarkable sensation among the party. Some of the birds hurried off at once: one old Magpie began wrapping itself up very carefully, remarking, \\x93I really must be getting home; the night-air doesn\\x92t suit my throat!\\x94 and a Canary called out in a trembling voice to its children, \\x93Come away, my dears! It\\x92s high time you were all in bed!\\x94 On various pretexts they all moved off, and Alice was soon left alone.\\n\\n\\x93I wish I hadn\\x92t mentioned Dinah!\\x94 she said to herself in a melancholy tone. \\x93Nobody seems to like her, down here, and I\\x92m sure she\\x92s the best cat in the world! Oh, my dear Dinah! I wonder if I shall ever see you any more!\\x94 And here poor Alice began to cry again, for she felt very lonely and low-spirited. In a little while, however, she again heard a little pattering of footsteps in the distance, and she looked up eagerly, half hoping that the Mouse had changed his mind, and was coming back to finish his story.'\n",
      " 'It was the White Rabbit, trotting slowly back again, and looking anxiously about as it went, as if it had lost something; and she heard it muttering to itself \\x93The Duchess! The Duchess! Oh my dear paws! Oh my fur and whiskers! She\\x92ll get me executed, as sure as ferrets are ferrets! Where can I have dropped them, I wonder?\\x94 Alice guessed in a moment that it was looking for the fan and the pair of white kid gloves, and she very good-naturedly began hunting about for them, but they were nowhere to be seen\\x97everything seemed to have changed since her swim in the pool, and the great hall, with the glass table and the little door, had vanished completely.\\n\\nVery soon the Rabbit noticed Alice, as she went hunting about, and called out to her in an angry tone, \\x93Why, Mary Ann, what are you doing out here? Run home this moment, and fetch me a pair of gloves and a fan! Quick, now!\\x94 And Alice was so much frightened that she ran off at once in the direction it pointed to, without trying to explain the mistake it had made.\\n\\n\\x93He took me for his housemaid,\\x94 she said to herself as she ran. \\x93How surprised he\\x92ll be when he finds out who I am! But I\\x92d better take him his fan and gloves\\x97that is, if I can find them.\\x94 As she said this, she came upon a neat little house, on the door of which was a bright brass plate with the name \\x93W. RABBIT,\\x94 engraved upon it. She went in without knocking, and hurried upstairs, in great fear lest she should meet the real Mary Ann, and be turned out of the house before she had found the fan and gloves.\\n\\n\\x93How queer it seems,\\x94 Alice said to herself, \\x93to be going messages for a rabbit! I suppose Dinah\\x92ll be sending me on messages next!\\x94 And she began fancying the sort of thing that would happen: \\x93\\x91Miss Alice! Come here directly, and get ready for your walk!\\x92 \\x91Coming in a minute, nurse! But I\\x92ve got to see that the mouse doesn\\x92t get out.\\x92 Only I don\\x92t think,\\x94 Alice went on, \\x93that they\\x92d let Dinah stop in the house if it began ordering people about like that!\\x94\\n\\nBy this time she had found her way into a tidy little room with a table in the window, and on it (as she had hoped) a fan and two or three pairs of tiny white kid gloves: she took up the fan and a pair of the gloves, and was just going to leave the room, when her eye fell upon a little bottle that stood near the looking-glass. There was no label this time with the words \\x93DRINK ME,\\x94 but nevertheless she uncorked it and put it to her lips. \\x93I know something interesting is sure to happen,\\x94 she said to herself, \\x93whenever I eat or drink anything; so I\\x92ll just see what this bottle does. I do hope it\\x92ll make me grow large again, for really I\\x92m quite tired of being such a tiny little thing!\\x94\\n\\nIt did so indeed, and much sooner than she had expected: before she had drunk half the bottle, she found her head pressing against the ceiling, and had to stoop to save her neck from being broken. She hastily put down the bottle, saying to herself \\x93That\\x92s quite enough\\x97I hope I shan\\x92t grow any more\\x97As it is, I can\\x92t get out at the door\\x97I do wish I hadn\\x92t drunk quite so much!\\x94\\n\\nAlas! it was too late to wish that! She went on growing, and growing, and very soon had to kneel down on the floor: in another minute there was not even room for this, and she tried the effect of lying down with one elbow against the door, and the other arm curled round her head. Still she went on growing, and, as a last resource, she put one arm out of the window, and one foot up the chimney, and said to herself \\x93Now I can do no more, whatever happens. What will become of me?\\x94\\n\\nLuckily for Alice, the little magic bottle had now had its full effect, and she grew no larger: still it was very uncomfortable, and, as there seemed to be no sort of chance of her ever getting out of the room again, no wonder she felt unhappy.\\n\\n\\x93It was much pleasanter at home,\\x94 thought poor Alice, \\x93when one wasn\\x92t always growing larger and smaller, and being ordered about by mice and rabbits. I almost wish I hadn\\x92t gone down that rabbit-hole\\x97and yet\\x97and yet\\x97it\\x92s rather curious, you know, this sort of life! I do wonder what can have happened to me! When I used to read fairy-tales, I fancied that kind of thing never happened, and now here I am in the middle of one! There ought to be a book written about me, that there ought! And when I grow up, I\\x92ll write one\\x97but I\\x92m grown up now,\\x94 she added in a sorrowful tone; \\x93at least there\\x92s no room to grow up any more here.\\x94\\n\\n\\x93But then,\\x94 thought Alice, \\x93shall I never get any older than I am now? That\\x92ll be a comfort, one way\\x97never to be an old woman\\x97but then\\x97always to have lessons to learn! Oh, I shouldn\\x92t like that!\\x94\\n\\n\\x93Oh, you foolish Alice!\\x94 she answered herself. \\x93How can you learn lessons in here? Why, there\\x92s hardly room for you, and no room at all for any lesson-books!\\x94\\n\\nAnd so she went on, taking first one side and then the other, and making quite a conversation of it altogether; but after a few minutes she heard a voice outside, and stopped to listen.\\n\\n\\x93Mary Ann! Mary Ann!\\x94 said the voice. \\x93Fetch me my gloves this moment!\\x94 Then came a little pattering of feet on the stairs. Alice knew it was the Rabbit coming to look for her, and she trembled till she shook the house, quite forgetting that she was now about a thousand times as large as the Rabbit, and had no reason to be afraid of it.\\n\\nPresently the Rabbit came up to the door, and tried to open it; but, as the door opened inwards, and Alice\\x92s elbow was pressed hard against it, that attempt proved a failure. Alice heard it say to itself \\x93Then I\\x92ll go round and get in at the window.\\x94\\n\\n\\x93That you won\\x92t!\\x94 thought Alice, and, after waiting till she fancied she heard the Rabbit just under the window, she suddenly spread out her hand, and made a snatch in the air. She did not get hold of anything, but she heard a little shriek and a fall, and a crash of broken glass, from which she concluded that it was just possible it had fallen into a cucumber-frame, or something of the sort.\\n\\nNext came an angry voice\\x97the Rabbit\\x92s\\x97\\x93Pat! Pat! Where are you?\\x94 And then a voice she had never heard before, \\x93Sure then I\\x92m here! Digging for apples, yer honour!\\x94\\n\\n\\x93Digging for apples, indeed!\\x94 said the Rabbit angrily. \\x93Here! Come and help me out of this!\\x94 (Sounds of more broken glass.)\\n\\n\\x93Now tell me, Pat, what\\x92s that in the window?\\x94\\n\\n\\x93Sure, it\\x92s an arm, yer honour!\\x94 (He pronounced it \\x93arrum.\\x94)\\n\\n\\x93An arm, you goose! Who ever saw one that size? Why, it fills the whole window!\\x94\\n\\n\\x93Sure, it does, yer honour: but it\\x92s an arm for all that.\\x94\\n\\n\\x93Well, it\\x92s got no business there, at any rate: go and take it away!\\x94\\n\\nThere was a long silence after this, and Alice could only hear whispers now and then; such as, \\x93Sure, I don\\x92t like it, yer honour, at all, at all!\\x94 \\x93Do as I tell you, you coward!\\x94 and at last she spread out her hand again, and made another snatch in the air. This time there were two little shrieks, and more sounds of broken glass. \\x93What a number of cucumber-frames there must be!\\x94 thought Alice. \\x93I wonder what they\\x92ll do next! As for pulling me out of the window, I only wish they could! I\\x92m sure I don\\x92t want to stay in here any longer!\\x94\\n\\nShe waited for some time without hearing anything more: at last came a rumbling of little cartwheels, and the sound of a good many voices all talking together: she made out the words: \\x93Where\\x92s the other ladder?\\x97Why, I hadn\\x92t to bring but one; Bill\\x92s got the other\\x97Bill! fetch it here, lad!\\x97Here, put \\x92em up at this corner\\x97No, tie \\x92em together first\\x97they don\\x92t reach half high enough yet\\x97Oh! they\\x92ll do well enough; don\\x92t be particular\\x97Here, Bill! catch hold of this rope\\x97Will the roof bear?\\x97Mind that loose slate\\x97Oh, it\\x92s coming down! Heads below!\\x94 (a loud crash)\\x97\\x93Now, who did that?\\x97It was Bill, I fancy\\x97Who\\x92s to go down the chimney?\\x97Nay, I shan\\x92t! You do it!\\x97That I won\\x92t, then!\\x97Bill\\x92s to go down\\x97Here, Bill! the master says you\\x92re to go down the chimney!\\x94\\n\\n\\x93Oh! So Bill\\x92s got to come down the chimney, has he?\\x94 said Alice to herself. \\x93Shy, they seem to put everything upon Bill! I wouldn\\x92t be in Bill\\x92s place for a good deal: this fireplace is narrow, to be sure; but I think I can kick a little!\\x94\\n\\nShe drew her foot as far down the chimney as she could, and waited till she heard a little animal (she couldn\\x92t guess of what sort it was) scratching and scrambling about in the chimney close above her: then, saying to herself \\x93This is Bill,\\x94 she gave one sharp kick, and waited to see what would happen next.\\n\\nThe first thing she heard was a general chorus of \\x93There goes Bill!\\x94 then the Rabbit\\x92s voice along\\x97\\x93Catch him, you by the hedge!\\x94 then silence, and then another confusion of voices\\x97\\x93Hold up his head\\x97Brandy now\\x97Don\\x92t choke him\\x97How was it, old fellow? What happened to you? Tell us all about it!\\x94\\n\\nLast came a little feeble, squeaking voice, (\\x93That\\x92s Bill,\\x94 thought Alice,) \\x93Well, I hardly know\\x97No more, thank ye; I\\x92m better now\\x97but I\\x92m a deal too flustered to tell you\\x97all I know is, something comes at me like a Jack-in-the-box, and up I goes like a sky-rocket!\\x94\\n\\n\\x93So you did, old fellow!\\x94 said the others.\\n\\n\\x93We must burn the house down!\\x94 said the Rabbit\\x92s voice; and Alice called out as loud as she could, \\x93If you do, I\\x92ll set Dinah at you!\\x94\\n\\nThere was a dead silence instantly, and Alice thought to herself, \\x93I wonder what they will do next! If they had any sense, they\\x92d take the roof off.\\x94 After a minute or two, they began moving about again, and Alice heard the Rabbit say, \\x93A barrowful will do, to begin with.\\x94\\n\\n\\x93A barrowful of what?\\x94 thought Alice; but she had not long to doubt, for the next moment a shower of little pebbles came rattling in at the window, and some of them hit her in the face. \\x93I\\x92ll put a stop to this,\\x94 she said to herself, and shouted out, \\x93You\\x92d better not do that again!\\x94 which produced another dead silence.\\n\\nAlice noticed with some surprise that the pebbles were all turning into little cakes as they lay on the floor, and a bright idea came into her head. \\x93If I eat one of these cakes,\\x94 she thought, \\x93it\\x92s sure to make some change in my size; and as it can\\x92t possibly make me larger, it must make me smaller, I suppose.\\x94\\n\\nSo she swallowed one of the cakes, and was delighted to find that she began shrinking directly. As soon as she was small enough to get through the door, she ran out of the house, and found quite a crowd of little animals and birds waiting outside. The poor little Lizard, Bill, was in the middle, being held up by two guinea-pigs, who were giving it something out of a bottle. They all made a rush at Alice the moment she appeared; but she ran off as hard as she could, and soon found herself safe in a thick wood.\\n\\n\\x93The first thing I\\x92ve got to do,\\x94 said Alice to herself, as she wandered about in the wood, \\x93is to grow to my right size again; and the second thing is to find my way into that lovely garden. I think that will be the best plan.\\x94\\n\\nIt sounded an excellent plan, no doubt, and very neatly and simply arranged; the only difficulty was, that she had not the smallest idea how to set about it; and while she was peering about anxiously among the trees, a little sharp bark just over her head made her look up in a great hurry.\\n\\nAn enormous puppy was looking down at her with large round eyes, and feebly stretching out one paw, trying to touch her. \\x93Poor little thing!\\x94 said Alice, in a coaxing tone, and she tried hard to whistle to it; but she was terribly frightened all the time at the thought that it might be hungry, in which case it would be very likely to eat her up in spite of all her coaxing.\\n\\nHardly knowing what she did, she picked up a little bit of stick, and held it out to the puppy; whereupon the puppy jumped into the air off all its feet at once, with a yelp of delight, and rushed at the stick, and made believe to worry it; then Alice dodged behind a great thistle, to keep herself from being run over; and the moment she appeared on the other side, the puppy made another rush at the stick, and tumbled head over heels in its hurry to get hold of it; then Alice, thinking it was very like having a game of play with a cart-horse, and expecting every moment to be trampled under its feet, ran round the thistle again; then the puppy began a series of short charges at the stick, running a very little way forwards each time and a long way back, and barking hoarsely all the while, till at last it sat down a good way off, panting, with its tongue hanging out of its mouth, and its great eyes half shut.\\n\\nThis seemed to Alice a good opportunity for making her escape; so she set off at once, and ran till she was quite tired and out of breath, and till the puppy\\x92s bark sounded quite faint in the distance.\\n\\n\\x93And yet what a dear little puppy it was!\\x94 said Alice, as she leant against a buttercup to rest herself, and fanned herself with one of the leaves: \\x93I should have liked teaching it tricks very much, if\\x97if I\\x92d only been the right size to do it! Oh dear! I\\x92d nearly forgotten that I\\x92ve got to grow up again! Let me see\\x97how is it to be managed? I suppose I ought to eat or drink something or other; but the great question is, what?\\x94\\n\\nThe great question certainly was, what? Alice looked all round her at the flowers and the blades of grass, but she did not see anything that looked like the right thing to eat or drink under the circumstances. There was a large mushroom growing near her, about the same height as herself; and when she had looked under it, and on both sides of it, and behind it, it occurred to her that she might as well look and see what was on the top of it.\\n\\nShe stretched herself up on tiptoe, and peeped over the edge of the mushroom, and her eyes immediately met those of a large blue caterpillar, that was sitting on the top with its arms folded, quietly smoking a long hookah, and taking not the smallest notice of her or of anything else.'\n",
      " 'The Caterpillar and Alice looked at each other for some time in silence: at last the Caterpillar took the hookah out of its mouth, and addressed her in a languid, sleepy voice.\\n\\n\\x93Who are you?\\x94 said the Caterpillar.\\n\\nThis was not an encouraging opening for a conversation. Alice replied, rather shyly, \\x93I\\x97I hardly know, sir, just at present\\x97at least I know who I was when I got up this morning, but I think I must have been changed several times since then.\\x94\\n\\n\\x93What do you mean by that?\\x94 said the Caterpillar sternly. \\x93Explain yourself!\\x94\\n\\n\\x93I can\\x92t explain myself, I\\x92m afraid, sir,\\x94 said Alice, \\x93because I\\x92m not myself, you see.\\x94\\n\\n\\x93I don\\x92t see,\\x94 said the Caterpillar.\\n\\n\\x93I\\x92m afraid I can\\x92t put it more clearly,\\x94 Alice replied very politely, \\x93for I can\\x92t understand it myself to begin with; and being so many different sizes in a day is very confusing.\\x94\\n\\n\\x93It isn\\x92t,\\x94 said the Caterpillar.\\n\\n\\x93Well, perhaps you haven\\x92t found it so yet,\\x94 said Alice; \\x93but when you have to turn into a chrysalis\\x97you will some day, you know\\x97and then after that into a butterfly, I should think you\\x92ll feel it a little queer, won\\x92t you?\\x94\\n\\n\\x93Not a bit,\\x94 said the Caterpillar.\\n\\n\\x93Well, perhaps your feelings may be different,\\x94 said Alice; \\x93all I know is, it would feel very queer to me.\\x94\\n\\n\\x93You!\\x94 said the Caterpillar contemptuously. \\x93Who are you?\\x94\\n\\nWhich brought them back again to the beginning of the conversation. Alice felt a little irritated at the Caterpillar\\x92s making such very short remarks, and she drew herself up and said, very gravely, \\x93I think, you ought to tell me who you are, first.\\x94\\n\\n\\x93Why?\\x94 said the Caterpillar.\\n\\nHere was another puzzling question; and as Alice could not think of any good reason, and as the Caterpillar seemed to be in a very unpleasant state of mind, she turned away.\\n\\n\\x93Come back!\\x94 the Caterpillar called after her. \\x93I\\x92ve something important to say!\\x94\\n\\nThis sounded promising, certainly: Alice turned and came back again.\\n\\n\\x93Keep your temper,\\x94 said the Caterpillar.\\n\\n\\x93Is that all?\\x94 said Alice, swallowing down her anger as well as she could.\\n\\n\\x93No,\\x94 said the Caterpillar.\\n\\nAlice thought she might as well wait, as she had nothing else to do, and perhaps after all it might tell her something worth hearing. For some minutes it puffed away without speaking, but at last it unfolded its arms, took the hookah out of its mouth again, and said, \\x93So you think you\\x92re changed, do you?\\x94\\n\\n\\x93I\\x92m afraid I am, sir,\\x94 said Alice; \\x93I can\\x92t remember things as I used\\x97and I don\\x92t keep the same size for ten minutes together!\\x94\\n\\n\\x93Can\\x92t remember what things?\\x94 said the Caterpillar.\\n\\n\\x93Well, I\\x92ve tried to say \\x93How doth the little busy bee,\\x94 but it all came different!\\x94 Alice replied in a very melancholy voice.\\n\\n\\x93Repeat, \\x93You are old, Father William,\\x92\\x94 said the Caterpillar.\\n\\nAlice folded her hands, and began:\\n\\x93You are old, Father William,\\x94 the young man said,\\n\\x93And your hair has become very white;\\nAnd yet you incessantly stand on your head\\x97\\nDo you think, at your age, it is right?\\x94\\n\\n\\x93In my youth,\\x94 Father William replied to his son,\\n\\x93I feared it might injure the brain;\\nBut, now that I\\x92m perfectly sure I have none,\\nWhy, I do it again and again.\\x94\\n\\n\\x93You are old,\\x94 said the youth, \\x93as I mentioned before,\\nAnd have grown most uncommonly fat;\\nYet you turned a back-somersault in at the door\\x97\\nPray, what is the reason of that?\\x94\\n\\n\\x93In my youth,\\x94 said the sage, as he shook his grey locks,\\n\\x93I kept all my limbs very supple\\nBy the use of this ointment\\x97one shilling the box\\x97\\nAllow me to sell you a couple?\\x94\\n\\n\\x93You are old,\\x94 said the youth, \\x93and your jaws are too weak\\nFor anything tougher than suet;\\nYet you finished the goose, with the bones and the beak\\x97\\nPray, how did you manage to do it?\\x94\\n\\n\\x93In my youth,\\x94 said his father, \\x93I took to the law,\\nAnd argued each case with my wife;\\nAnd the muscular strength, which it gave to my jaw,\\nHas lasted the rest of my life.\\x94\\n\\n\\x93You are old,\\x94 said the youth, \\x93one would hardly suppose\\nThat your eye was as steady as ever;\\nYet you balanced an eel on the end of your nose\\x97\\nWhat made you so awfully clever?\\x94\\n\\n\\x93I have answered three questions, and that is enough,\\x94\\nSaid his father; \\x93don\\x92t give yourself airs!\\nDo you think I can listen all day to such stuff?\\nBe off, or I\\x92ll kick you down stairs!\\x94\\n\\n\\x93That is not said right,\\x94 said the Caterpillar.\\n\\n\\x93Not quite right, I\\x92m afraid,\\x94 said Alice, timidly; \\x93some of the words have got altered.\\x94\\n\\n\\x93It is wrong from beginning to end,\\x94 said the Caterpillar decidedly, and there was silence for some minutes.\\n\\nThe Caterpillar was the first to speak.\\n\\n\\x93What size do you want to be?\\x94 it asked.\\n\\n\\x93Oh, I\\x92m not particular as to size,\\x94 Alice hastily replied; \\x93only one doesn\\x92t like changing so often, you know.\\x94\\n\\n\\x93I don\\x92t know,\\x94 said the Caterpillar.\\n\\nAlice said nothing: she had never been so much contradicted in her life before, and she felt that she was losing her temper.\\n\\n\\x93Are you content now?\\x94 said the Caterpillar.\\n\\n\\x93Well, I should like to be a little larger, sir, if you wouldn\\x92t mind,\\x94 said Alice: \\x93three inches is such a wretched height to be.\\x94\\n\\n\\x93It is a very good height indeed!\\x94 said the Caterpillar angrily, rearing itself upright as it spoke (it was exactly three inches high).\\n\\n\\x93But I\\x92m not used to it!\\x94 pleaded poor Alice in a piteous tone. And she thought of herself, \\x93I wish the creatures wouldn\\x92t be so easily offended!\\x94\\n\\n\\x93You\\x92ll get used to it in time,\\x94 said the Caterpillar; and it put the hookah into its mouth and began smoking again.\\n\\nThis time Alice waited patiently until it chose to speak again. In a minute or two the Caterpillar took the hookah out of its mouth and yawned once or twice, and shook itself. Then it got down off the mushroom, and crawled away in the grass, merely remarking as it went, \\x93One side will make you grow taller, and the other side will make you grow shorter.\\x94\\n\\n\\x93One side of what? The other side of what?\\x94 thought Alice to herself.\\n\\n\\x93Of the mushroom,\\x94 said the Caterpillar, just as if she had asked it aloud; and in another moment it was out of sight.\\n\\nAlice remained looking thoughtfully at the mushroom for a minute, trying to make out which were the two sides of it; and as it was perfectly round, she found this a very difficult question. However, at last she stretched her arms round it as far as they would go, and broke off a bit of the edge with each hand.\\n\\n\\x93And now which is which?\\x94 she said to herself, and nibbled a little of the right-hand bit to try the effect: the next moment she felt a violent blow underneath her chin: it had struck her foot!\\n\\nShe was a good deal frightened by this very sudden change, but she felt that there was no time to be lost, as she was shrinking rapidly; so she set to work at once to eat some of the other bit. Her chin was pressed so closely against her foot, that there was hardly room to open her mouth; but she did it at last, and managed to swallow a morsel of the lefthand bit.\\n\\n\\x93Come, my head\\x92s free at last!\\x94 said Alice in a tone of delight, which changed into alarm in another moment, when she found that her shoulders were nowhere to be found: all she could see, when she looked down, was an immense length of neck, which seemed to rise like a stalk out of a sea of green leaves that lay far below her.\\n\\n\\x93What can all that green stuff be?\\x94 said Alice. \\x93And where have my shoulders got to? And oh, my poor hands, how is it I can\\x92t see you?\\x94 She was moving them about as she spoke, but no result seemed to follow, except a little shaking among the distant green leaves.\\n\\nAs there seemed to be no chance of getting her hands up to her head, she tried to get her head down to them, and was delighted to find that her neck would bend about easily in any direction, like a serpent. She had just succeeded in curving it down into a graceful zigzag, and was going to dive in among the leaves, which she found to be nothing but the tops of the trees under which she had been wandering, when a sharp hiss made her draw back in a hurry: a large pigeon had flown into her face, and was beating her violently with its wings.\\n\\n\\x93Serpent!\\x94 screamed the Pigeon.\\n\\n\\x93I\\x92m not a serpent!\\x94 said Alice indignantly. \\x93Let me alone!\\x94\\n\\n\\x93Serpent, I say again!\\x94 repeated the Pigeon, but in a more subdued tone, and added with a kind of sob, \\x93I\\x92ve tried every way, and nothing seems to suit them!\\x94\\n\\n\\x93I haven\\x92t the least idea what you\\x92re talking about,\\x94 said Alice.\\n\\n\\x93I\\x92ve tried the roots of trees, and I\\x92ve tried banks, and I\\x92ve tried hedges,\\x94 the Pigeon went on, without attending to her; \\x93but those serpents! There\\x92s no pleasing them!\\x94\\n\\nAlice was more and more puzzled, but she thought there was no use in saying anything more till the Pigeon had finished.\\n\\n\\x93As if it wasn\\x92t trouble enough hatching the eggs,\\x94 said the Pigeon; \\x93but I must be on the look-out for serpents night and day! Why, I haven\\x92t had a wink of sleep these three weeks!\\x94\\n\\n\\x93I\\x92m very sorry you\\x92ve been annoyed,\\x94 said Alice, who was beginning to see its meaning.\\n\\n\\x93And just as I\\x92d taken the highest tree in the wood,\\x94 continued the Pigeon, raising its voice to a shriek, \\x93and just as I was thinking I should be free of them at last, they must needs come wriggling down from the sky! Ugh, Serpent!\\x94\\n\\n\\x93But I\\x92m not a serpent, I tell you!\\x94 said Alice. \\x93I\\x92m a\\x97I\\x92m a\\x97\\x94\\n\\n\\x93Well! What are you?\\x94 said the Pigeon. \\x93I can see you\\x92re trying to invent something!\\x94\\n\\n\\x93I\\x97I\\x92m a little girl,\\x94 said Alice, rather doubtfully, as she remembered the number of changes she had gone through that day.\\n\\n\\x93A likely story indeed!\\x94 said the Pigeon in a tone of the deepest contempt. \\x93I\\x92ve seen a good many little girls in my time, but never one with such a neck as that! No, no! You\\x92re a serpent; and there\\x92s no use denying it. I suppose you\\x92ll be telling me next that you never tasted an egg!\\x94\\n\\n\\x93I have tasted eggs, certainly,\\x94 said Alice, who was a very truthful child; \\x93but little girls eat eggs quite as much as serpents do, you know.\\x94\\n\\n\\x93I don\\x92t believe it,\\x94 said the Pigeon; \\x93but if they do, why then they\\x92re a kind of serpent, that\\x92s all I can say.\\x94\\n\\nThis was such a new idea to Alice, that she was quite silent for a minute or two, which gave the Pigeon the opportunity of adding, \\x93You\\x92re looking for eggs, I know that well enough; and what does it matter to me whether you\\x92re a little girl or a serpent?\\x94\\n\\n\\x93It matters a good deal to me,\\x94 said Alice hastily; \\x93but I\\x92m not looking for eggs, as it happens; and if I was, I shouldn\\x92t want yours: I don\\x92t like them raw.\\x94\\n\\n\\x93Well, be off, then!\\x94 said the Pigeon in a sulky tone, as it settled down again into its nest. Alice crouched down among the trees as well as she could, for her neck kept getting entangled among the branches, and every now and then she had to stop and untwist it. After a while she remembered that she still held the pieces of mushroom in her hands, and she set to work very carefully, nibbling first at one and then at the other, and growing sometimes taller and sometimes shorter, until she had succeeded in bringing herself down to her usual height.\\n\\nIt was so long since she had been anything near the right size, that it felt quite strange at first; but she got used to it in a few minutes, and began talking to herself, as usual. \\x93Come, there\\x92s half my plan done now! How puzzling all these changes are! I\\x92m never sure what I\\x92m going to be, from one minute to another! However, I\\x92ve got back to my right size: the next thing is, to get into that beautiful garden\\x97how is that to be done, I wonder?\\x94 As she said this, she came suddenly upon an open place, with a little house in it about four feet high. \\x93Whoever lives there,\\x94 thought Alice, \\x93it\\x92ll never do to come upon them this size: why, I should frighten them out of their wits!\\x94 So she began nibbling at the righthand bit again, and did not venture to go near the house till she had brought herself down to nine inches high.']\n"
     ]
    }
   ],
   "source": [
    "print(X)"
   ]
  },
  {
   "cell_type": "code",
   "execution_count": 104,
   "metadata": {
    "colab": {
     "base_uri": "https://localhost:8080/",
     "height": 34
    },
    "colab_type": "code",
    "executionInfo": {
     "elapsed": 2391,
     "status": "ok",
     "timestamp": 1590257449961,
     "user": {
      "displayName": "Hadelin de Ponteves",
      "photoUrl": "https://lh3.googleusercontent.com/a-/AOh14GhEuXdT7eQweUmRPW8_laJuPggSK6hfvpl5a6WBaA=s64",
      "userId": "15047218817161520419"
     },
     "user_tz": -240
    },
    "id": "38vKGE6Nb2RR",
    "outputId": "a815e42a-e0dd-4cb5-ab97-b17ead98fbc3"
   },
   "outputs": [
    {
     "name": "stdout",
     "output_type": "stream",
     "text": [
      "['Mary Shelley' 'Mary Shelley' 'Mary Shelley' 'Mary Shelley'\n",
      " 'Mary Shelley' 'Lewis Carol' 'Lewis Carol' 'Lewis Carol' 'Lewis Carol'\n",
      " 'Lewis Carol']\n"
     ]
    }
   ],
   "source": [
    "print(y)"
   ]
  },
  {
   "cell_type": "markdown",
   "metadata": {
    "colab_type": "text",
    "id": "N6bQ0UgSU-NJ"
   },
   "source": [
    "### Encoding categorical data"
   ]
  },
  {
   "cell_type": "code",
   "execution_count": 105,
   "metadata": {
    "colab": {},
    "colab_type": "code",
    "id": "AMXC8-KMVirw"
   },
   "outputs": [
    {
     "name": "stdout",
     "output_type": "stream",
     "text": [
      "[[0. 1.]\n",
      " [0. 1.]\n",
      " [0. 1.]\n",
      " [0. 1.]\n",
      " [0. 1.]\n",
      " [1. 0.]\n",
      " [1. 0.]\n",
      " [1. 0.]\n",
      " [1. 0.]\n",
      " [1. 0.]]\n"
     ]
    }
   ],
   "source": [
    "from sklearn.preprocessing import OneHotEncoder\n",
    "y = np.array(y).reshape(-1, 1)\n",
    "encoder = OneHotEncoder(sparse_output=False)  # sparse_output=False to get a NumPy array\n",
    "y = encoder.fit_transform(y)"
   ]
  },
  {
   "cell_type": "markdown",
   "metadata": {
    "colab_type": "text",
    "id": "vHol938cW8zd"
   },
   "source": [
    "### Splitting the dataset into the Training set and Test set"
   ]
  },
  {
   "cell_type": "code",
   "execution_count": 106,
   "metadata": {
    "colab": {},
    "colab_type": "code",
    "id": "Z-TDt0Y_XEfc"
   },
   "outputs": [],
   "source": [
    "from sklearn.model_selection import train_test_split\n",
    "X_train, X_test, y_train, y_test = train_test_split(X, y, test_size = 0.2, random_state = 0)"
   ]
  },
  {
   "cell_type": "code",
   "execution_count": 107,
   "metadata": {},
   "outputs": [
    {
     "name": "stdout",
     "output_type": "stream",
     "text": [
      "[[0. 1.]\n",
      " [1. 0.]\n",
      " [0. 1.]\n",
      " [1. 0.]\n",
      " [1. 0.]\n",
      " [0. 1.]\n",
      " [0. 1.]\n",
      " [1. 0.]]\n"
     ]
    }
   ],
   "source": [
    "print(y_train)"
   ]
  },
  {
   "cell_type": "markdown",
   "metadata": {
    "colab_type": "text",
    "id": "-zfEzkRVXIwF"
   },
   "source": [
    "## Part 2 - Building the ANN"
   ]
  },
  {
   "cell_type": "markdown",
   "metadata": {
    "colab_type": "text",
    "id": "KvdeScabXtlB"
   },
   "source": [
    "### Initializing the ANN"
   ]
  },
  {
   "cell_type": "code",
   "execution_count": 108,
   "metadata": {
    "colab": {},
    "colab_type": "code",
    "id": "3dtrScHxXQox"
   },
   "outputs": [],
   "source": [
    "ann = tf.keras.models.Sequential()"
   ]
  },
  {
   "cell_type": "markdown",
   "metadata": {
    "colab_type": "text",
    "id": "rP6urV6SX7kS"
   },
   "source": [
    "### Adding the input layer and the first hidden layer"
   ]
  },
  {
   "cell_type": "code",
   "execution_count": 109,
   "metadata": {
    "colab": {},
    "colab_type": "code",
    "id": "bppGycBXYCQr"
   },
   "outputs": [],
   "source": [
    "ann.add(tf.keras.layers.Dense(units=6, activation='relu'))"
   ]
  },
  {
   "cell_type": "markdown",
   "metadata": {
    "colab_type": "text",
    "id": "BELWAc_8YJze"
   },
   "source": [
    "### Adding the second hidden layer"
   ]
  },
  {
   "cell_type": "code",
   "execution_count": 110,
   "metadata": {
    "colab": {},
    "colab_type": "code",
    "id": "JneR0u0sYRTd"
   },
   "outputs": [],
   "source": [
    "ann.add(tf.keras.layers.Dense(units=6, activation='relu'))"
   ]
  },
  {
   "cell_type": "markdown",
   "metadata": {
    "colab_type": "text",
    "id": "OyNEe6RXYcU4"
   },
   "source": [
    "### Adding the output layer"
   ]
  },
  {
   "cell_type": "code",
   "execution_count": 111,
   "metadata": {
    "colab": {},
    "colab_type": "code",
    "id": "Cn3x41RBYfvY"
   },
   "outputs": [],
   "source": [
    "ann.add(tf.keras.layers.Dense(units=1, activation='sigmoid'))"
   ]
  },
  {
   "cell_type": "markdown",
   "metadata": {
    "colab_type": "text",
    "id": "JT4u2S1_Y4WG"
   },
   "source": [
    "## Part 3 - Training the ANN"
   ]
  },
  {
   "cell_type": "markdown",
   "metadata": {
    "colab_type": "text",
    "id": "8GWlJChhY_ZI"
   },
   "source": [
    "### Compiling the ANN"
   ]
  },
  {
   "cell_type": "code",
   "execution_count": 112,
   "metadata": {
    "colab": {},
    "colab_type": "code",
    "id": "fG3RrwDXZEaS"
   },
   "outputs": [],
   "source": [
    "ann.compile(optimizer = 'adam', loss = 'binary_crossentropy', metrics = ['accuracy'])"
   ]
  },
  {
   "cell_type": "markdown",
   "metadata": {
    "colab_type": "text",
    "id": "0QR_G5u7ZLSM"
   },
   "source": [
    "### Training the ANN on the Training set"
   ]
  },
  {
   "cell_type": "code",
   "execution_count": 113,
   "metadata": {
    "colab": {
     "base_uri": "https://localhost:8080/",
     "height": 1000
    },
    "colab_type": "code",
    "executionInfo": {
     "elapsed": 33685,
     "status": "ok",
     "timestamp": 1590257481284,
     "user": {
      "displayName": "Hadelin de Ponteves",
      "photoUrl": "https://lh3.googleusercontent.com/a-/AOh14GhEuXdT7eQweUmRPW8_laJuPggSK6hfvpl5a6WBaA=s64",
      "userId": "15047218817161520419"
     },
     "user_tz": -240
    },
    "id": "nHZ-LKv_ZRb3",
    "outputId": "718cc4b0-b5aa-40f0-9b20-d3d31730a531"
   },
   "outputs": [
    {
     "name": "stdout",
     "output_type": "stream",
     "text": [
      "Epoch 1/100\n"
     ]
    },
    {
     "ename": "ValueError",
     "evalue": "in user code:\n\n    File \"C:\\Python311\\Lib\\site-packages\\keras\\src\\engine\\training.py\", line 1338, in train_function  *\n        return step_function(self, iterator)\n    File \"C:\\Python311\\Lib\\site-packages\\keras\\src\\engine\\training.py\", line 1322, in step_function  **\n        outputs = model.distribute_strategy.run(run_step, args=(data,))\n    File \"C:\\Python311\\Lib\\site-packages\\keras\\src\\engine\\training.py\", line 1303, in run_step  **\n        outputs = model.train_step(data)\n    File \"C:\\Python311\\Lib\\site-packages\\keras\\src\\engine\\training.py\", line 1080, in train_step\n        y_pred = self(x, training=True)\n    File \"C:\\Python311\\Lib\\site-packages\\keras\\src\\utils\\traceback_utils.py\", line 70, in error_handler\n        raise e.with_traceback(filtered_tb) from None\n    File \"C:\\Python311\\Lib\\site-packages\\keras\\src\\engine\\input_spec.py\", line 253, in assert_input_compatibility\n        raise ValueError(\n\n    ValueError: Exception encountered when calling layer 'sequential_1' (type Sequential).\n    \n    Input 0 of layer \"dense_3\" is incompatible with the layer: expected min_ndim=2, found ndim=1. Full shape received: (None,)\n    \n    Call arguments received by layer 'sequential_1' (type Sequential):\n      • inputs=tf.Tensor(shape=(None,), dtype=string)\n      • training=True\n      • mask=None\n",
     "output_type": "error",
     "traceback": [
      "\u001b[1;31m---------------------------------------------------------------------------\u001b[0m",
      "\u001b[1;31mValueError\u001b[0m                                Traceback (most recent call last)",
      "Cell \u001b[1;32mIn[113], line 1\u001b[0m\n\u001b[1;32m----> 1\u001b[0m \u001b[43mann\u001b[49m\u001b[38;5;241;43m.\u001b[39;49m\u001b[43mfit\u001b[49m\u001b[43m(\u001b[49m\u001b[43mX_train\u001b[49m\u001b[43m,\u001b[49m\u001b[43m \u001b[49m\u001b[43my_train\u001b[49m\u001b[43m,\u001b[49m\u001b[43m \u001b[49m\u001b[43mbatch_size\u001b[49m\u001b[43m \u001b[49m\u001b[38;5;241;43m=\u001b[39;49m\u001b[43m \u001b[49m\u001b[38;5;241;43m32\u001b[39;49m\u001b[43m,\u001b[49m\u001b[43m \u001b[49m\u001b[43mepochs\u001b[49m\u001b[43m \u001b[49m\u001b[38;5;241;43m=\u001b[39;49m\u001b[43m \u001b[49m\u001b[38;5;241;43m100\u001b[39;49m\u001b[43m)\u001b[49m\n",
      "File \u001b[1;32mC:\\Python311\\Lib\\site-packages\\keras\\src\\utils\\traceback_utils.py:70\u001b[0m, in \u001b[0;36mfilter_traceback.<locals>.error_handler\u001b[1;34m(*args, **kwargs)\u001b[0m\n\u001b[0;32m     67\u001b[0m     filtered_tb \u001b[38;5;241m=\u001b[39m _process_traceback_frames(e\u001b[38;5;241m.\u001b[39m__traceback__)\n\u001b[0;32m     68\u001b[0m     \u001b[38;5;66;03m# To get the full stack trace, call:\u001b[39;00m\n\u001b[0;32m     69\u001b[0m     \u001b[38;5;66;03m# `tf.debugging.disable_traceback_filtering()`\u001b[39;00m\n\u001b[1;32m---> 70\u001b[0m     \u001b[38;5;28;01mraise\u001b[39;00m e\u001b[38;5;241m.\u001b[39mwith_traceback(filtered_tb) \u001b[38;5;28;01mfrom\u001b[39;00m \u001b[38;5;28;01mNone\u001b[39;00m\n\u001b[0;32m     71\u001b[0m \u001b[38;5;28;01mfinally\u001b[39;00m:\n\u001b[0;32m     72\u001b[0m     \u001b[38;5;28;01mdel\u001b[39;00m filtered_tb\n",
      "File \u001b[1;32m~\\AppData\\Local\\Temp\\__autograph_generated_filei4o19td_.py:15\u001b[0m, in \u001b[0;36mouter_factory.<locals>.inner_factory.<locals>.tf__train_function\u001b[1;34m(iterator)\u001b[0m\n\u001b[0;32m     13\u001b[0m \u001b[38;5;28;01mtry\u001b[39;00m:\n\u001b[0;32m     14\u001b[0m     do_return \u001b[38;5;241m=\u001b[39m \u001b[38;5;28;01mTrue\u001b[39;00m\n\u001b[1;32m---> 15\u001b[0m     retval_ \u001b[38;5;241m=\u001b[39m ag__\u001b[38;5;241m.\u001b[39mconverted_call(ag__\u001b[38;5;241m.\u001b[39mld(step_function), (ag__\u001b[38;5;241m.\u001b[39mld(\u001b[38;5;28mself\u001b[39m), ag__\u001b[38;5;241m.\u001b[39mld(iterator)), \u001b[38;5;28;01mNone\u001b[39;00m, fscope)\n\u001b[0;32m     16\u001b[0m \u001b[38;5;28;01mexcept\u001b[39;00m:\n\u001b[0;32m     17\u001b[0m     do_return \u001b[38;5;241m=\u001b[39m \u001b[38;5;28;01mFalse\u001b[39;00m\n",
      "\u001b[1;31mValueError\u001b[0m: in user code:\n\n    File \"C:\\Python311\\Lib\\site-packages\\keras\\src\\engine\\training.py\", line 1338, in train_function  *\n        return step_function(self, iterator)\n    File \"C:\\Python311\\Lib\\site-packages\\keras\\src\\engine\\training.py\", line 1322, in step_function  **\n        outputs = model.distribute_strategy.run(run_step, args=(data,))\n    File \"C:\\Python311\\Lib\\site-packages\\keras\\src\\engine\\training.py\", line 1303, in run_step  **\n        outputs = model.train_step(data)\n    File \"C:\\Python311\\Lib\\site-packages\\keras\\src\\engine\\training.py\", line 1080, in train_step\n        y_pred = self(x, training=True)\n    File \"C:\\Python311\\Lib\\site-packages\\keras\\src\\utils\\traceback_utils.py\", line 70, in error_handler\n        raise e.with_traceback(filtered_tb) from None\n    File \"C:\\Python311\\Lib\\site-packages\\keras\\src\\engine\\input_spec.py\", line 253, in assert_input_compatibility\n        raise ValueError(\n\n    ValueError: Exception encountered when calling layer 'sequential_1' (type Sequential).\n    \n    Input 0 of layer \"dense_3\" is incompatible with the layer: expected min_ndim=2, found ndim=1. Full shape received: (None,)\n    \n    Call arguments received by layer 'sequential_1' (type Sequential):\n      • inputs=tf.Tensor(shape=(None,), dtype=string)\n      • training=True\n      • mask=None\n"
     ]
    }
   ],
   "source": [
    "ann.fit(X_train, y_train, batch_size = 32, epochs = 100)"
   ]
  },
  {
   "cell_type": "markdown",
   "metadata": {
    "colab_type": "text",
    "id": "tJj5k2MxZga3"
   },
   "source": [
    "## Part 4 - Making the predictions and evaluating the model"
   ]
  },
  {
   "cell_type": "markdown",
   "metadata": {
    "colab_type": "text",
    "id": "84QFoqGYeXHL"
   },
   "source": [
    "### Predicting the result of a single observation"
   ]
  },
  {
   "cell_type": "markdown",
   "metadata": {
    "colab_type": "text",
    "id": "CGRo3eacgDdC"
   },
   "source": [
    "**Homework**\n",
    "\n",
    "Use our ANN model to predict if the customer with the following informations will leave the bank: \n",
    "\n",
    "Geography: France\n",
    "\n",
    "Credit Score: 600\n",
    "\n",
    "Gender: Male\n",
    "\n",
    "Age: 40 years old\n",
    "\n",
    "Tenure: 3 years\n",
    "\n",
    "Balance: \\$ 60000\n",
    "\n",
    "Number of Products: 2\n",
    "\n",
    "Does this customer have a credit card? Yes\n",
    "\n",
    "Is this customer an Active Member: Yes\n",
    "\n",
    "Estimated Salary: \\$ 50000\n",
    "\n",
    "So, should we say goodbye to that customer?"
   ]
  },
  {
   "cell_type": "markdown",
   "metadata": {
    "colab_type": "text",
    "id": "ZhU1LTgPg-kH"
   },
   "source": [
    "**Solution**"
   ]
  },
  {
   "cell_type": "code",
   "execution_count": 18,
   "metadata": {
    "colab": {
     "base_uri": "https://localhost:8080/",
     "height": 34
    },
    "colab_type": "code",
    "executionInfo": {
     "elapsed": 33990,
     "status": "ok",
     "timestamp": 1590257481594,
     "user": {
      "displayName": "Hadelin de Ponteves",
      "photoUrl": "https://lh3.googleusercontent.com/a-/AOh14GhEuXdT7eQweUmRPW8_laJuPggSK6hfvpl5a6WBaA=s64",
      "userId": "15047218817161520419"
     },
     "user_tz": -240
    },
    "id": "2d8IoCCkeWGL",
    "outputId": "957f3970-e197-4c3b-a150-7f69dc567f5d"
   },
   "outputs": [
    {
     "name": "stdout",
     "output_type": "stream",
     "text": [
      "1/1 [==============================] - 0s 56ms/step\n",
      "[[False]]\n"
     ]
    }
   ],
   "source": [
    "print(ann.predict(sc.transform([[1, 0, 0, 600, 1, 40, 3, 60000, 2, 1, 1, 50000]])) > 0.5)"
   ]
  },
  {
   "cell_type": "markdown",
   "metadata": {
    "colab_type": "text",
    "id": "wGjx94g2n7OV"
   },
   "source": [
    "Therefore, our ANN model predicts that this customer stays in the bank!\n",
    "\n",
    "**Important note 1:** Notice that the values of the features were all input in a double pair of square brackets. That's because the \"predict\" method always expects a 2D array as the format of its inputs. And putting our values into a double pair of square brackets makes the input exactly a 2D array.\n",
    "\n",
    "**Important note 2:** Notice also that the \"France\" country was not input as a string in the last column but as \"1, 0, 0\" in the first three columns. That's because of course the predict method expects the one-hot-encoded values of the state, and as we see in the first row of the matrix of features X, \"France\" was encoded as \"1, 0, 0\". And be careful to include these values in the first three columns, because the dummy variables are always created in the first columns."
   ]
  },
  {
   "cell_type": "markdown",
   "metadata": {
    "colab_type": "text",
    "id": "u7yx47jPZt11"
   },
   "source": [
    "### Predicting the Test set results"
   ]
  },
  {
   "cell_type": "code",
   "execution_count": 19,
   "metadata": {
    "colab": {
     "base_uri": "https://localhost:8080/",
     "height": 137
    },
    "colab_type": "code",
    "executionInfo": {
     "elapsed": 33987,
     "status": "ok",
     "timestamp": 1590257481595,
     "user": {
      "displayName": "Hadelin de Ponteves",
      "photoUrl": "https://lh3.googleusercontent.com/a-/AOh14GhEuXdT7eQweUmRPW8_laJuPggSK6hfvpl5a6WBaA=s64",
      "userId": "15047218817161520419"
     },
     "user_tz": -240
    },
    "id": "nIyEeQdRZwgs",
    "outputId": "82330ba8-9bdc-4fd1-d3cf-b6d78ee7c2a3"
   },
   "outputs": [
    {
     "name": "stdout",
     "output_type": "stream",
     "text": [
      "63/63 [==============================] - 0s 515us/step\n",
      "[[0 0]\n",
      " [0 1]\n",
      " [0 0]\n",
      " ...\n",
      " [0 0]\n",
      " [0 0]\n",
      " [0 0]]\n"
     ]
    }
   ],
   "source": [
    "y_pred = ann.predict(X_test)\n",
    "y_pred = (y_pred > 0.5)\n",
    "print(np.concatenate((y_pred.reshape(len(y_pred),1), y_test.reshape(len(y_test),1)),1))"
   ]
  },
  {
   "cell_type": "markdown",
   "metadata": {
    "colab_type": "text",
    "id": "o0oyfLWoaEGw"
   },
   "source": [
    "### Making the Confusion Matrix"
   ]
  },
  {
   "cell_type": "code",
   "execution_count": 20,
   "metadata": {
    "colab": {
     "base_uri": "https://localhost:8080/",
     "height": 68
    },
    "colab_type": "code",
    "executionInfo": {
     "elapsed": 33981,
     "status": "ok",
     "timestamp": 1590257481595,
     "user": {
      "displayName": "Hadelin de Ponteves",
      "photoUrl": "https://lh3.googleusercontent.com/a-/AOh14GhEuXdT7eQweUmRPW8_laJuPggSK6hfvpl5a6WBaA=s64",
      "userId": "15047218817161520419"
     },
     "user_tz": -240
    },
    "id": "ci6K_r6LaF6P",
    "outputId": "4d854e9e-22d5-432f-f6e5-a102fe3ae0bd"
   },
   "outputs": [
    {
     "name": "stdout",
     "output_type": "stream",
     "text": [
      "[[1502   93]\n",
      " [ 194  211]]\n"
     ]
    },
    {
     "data": {
      "text/plain": [
       "0.8565"
      ]
     },
     "execution_count": 20,
     "metadata": {},
     "output_type": "execute_result"
    }
   ],
   "source": [
    "from sklearn.metrics import confusion_matrix, accuracy_score\n",
    "cm = confusion_matrix(y_test, y_pred)\n",
    "print(cm)\n",
    "accuracy_score(y_test, y_pred)"
   ]
  }
 ],
 "metadata": {
  "colab": {
   "authorship_tag": "ABX9TyMeRFWFoGrdaL5S3dx5MWmb",
   "collapsed_sections": [],
   "name": "artificial_neural_network.ipynb",
   "provenance": [],
   "toc_visible": true
  },
  "kernelspec": {
   "display_name": "Python 3 (ipykernel)",
   "language": "python",
   "name": "python3"
  },
  "language_info": {
   "codemirror_mode": {
    "name": "ipython",
    "version": 3
   },
   "file_extension": ".py",
   "mimetype": "text/x-python",
   "name": "python",
   "nbconvert_exporter": "python",
   "pygments_lexer": "ipython3",
   "version": "3.11.2"
  }
 },
 "nbformat": 4,
 "nbformat_minor": 4
}
